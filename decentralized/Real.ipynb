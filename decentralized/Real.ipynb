{
 "cells": [
  {
   "cell_type": "markdown",
   "id": "6acb16d6",
   "metadata": {},
   "source": [
    "# Experiment parameters"
   ]
  },
  {
   "cell_type": "code",
   "execution_count": 1,
   "id": "51323a57",
   "metadata": {},
   "outputs": [],
   "source": [
    "import sys\n",
    "sys.path.append(\"../\")\n",
    "import numpy as np\n",
    "import scipy as sp\n",
    "from utils import (\n",
    "    grid_adj_mat,\n",
    "    grid_gos_mat,\n",
    "    ring_adj_mat,\n",
    "    ring_gos_mat,\n",
    "    star_adj_mat,\n",
    "    star_gos_mat,\n",
    ")"
   ]
  },
  {
   "cell_type": "code",
   "execution_count": 37,
   "id": "25ac62a9",
   "metadata": {},
   "outputs": [],
   "source": [
    "datasets = [\"a7a\"] #[a7a\", \"a9a\", \"w7a\", \"w8a\", \"phishing\"]\n",
    "# max number of iterations for finding saddle with extragradient\n",
    "num_iter_solution = 50000#500000\n",
    "\n",
    "# max time for finding saddle with extragradient\n",
    "max_time_solution = 3600\n",
    "# tolerance of solution obtained with extragradient\n",
    "tolerance_solution = 1e-10\n",
    "# required accuracy of sliding\n",
    "eps = 1e-10\n",
    "seed = 30"
   ]
  },
  {
   "cell_type": "code",
   "execution_count": 3,
   "id": "5d2cefcf",
   "metadata": {},
   "outputs": [],
   "source": [
    "# number of nodes\n",
    "num_nodes = 25\n",
    "# for grid graph\n",
    "width = int(np.sqrt(num_nodes))  \n",
    "regcoef_x = 2.0\n",
    "regcoef_y = 2.0\n",
    "r_x = 5.0\n",
    "r_y = 0.0\n",
    "comm_budget_experiment = 1000"
   ]
  },
  {
   "cell_type": "code",
   "execution_count": 4,
   "id": "cb8a1d8d",
   "metadata": {},
   "outputs": [],
   "source": [
    "from decentralized.network import Network, NetworkConfigManager"
   ]
  },
  {
   "cell_type": "code",
   "execution_count": 5,
   "id": "109f2253",
   "metadata": {},
   "outputs": [
    {
     "name": "stderr",
     "output_type": "stream",
     "text": [
      "<class 'networkx.utils.decorators.argmap'> compilation 12:4: FutureWarning: laplacian_matrix will return a scipy.sparse array instead of a matrix in Networkx 3.0.\n",
      "/home/michael/Documents/DistributedOpt/opt_distr_stoch_vi_varying/decentralized/../decentralized/network/network.py:138: FutureWarning: adjacency_matrix will return a scipy.sparse array instead of a matrix in Networkx 3.0.\n",
      "  nx.adjacency_matrix(G, nodelist=self.nodelist).toarray()\n"
     ]
    }
   ],
   "source": [
    "network = Network(\n",
    "    comm_budget_experiment,\n",
    "    num_nodes,\n",
    "    \"mix_mat\",\n",
    "    NetworkConfigManager(\"experiment/configs/network.yaml\"),\n",
    ")"
   ]
  },
  {
   "cell_type": "markdown",
   "id": "8665c807",
   "metadata": {},
   "source": [
    "# Dataset"
   ]
  },
  {
   "cell_type": "code",
   "execution_count": 6,
   "id": "5a989ba8",
   "metadata": {},
   "outputs": [],
   "source": [
    "from libsvmdata import fetch_libsvm"
   ]
  },
  {
   "cell_type": "code",
   "execution_count": 7,
   "id": "cb5181d9",
   "metadata": {},
   "outputs": [],
   "source": [
    "A, b = fetch_libsvm(datasets[0])\n",
    "if sp.sparse.issparse(A):\n",
    "    A = A.toarray()"
   ]
  },
  {
   "cell_type": "code",
   "execution_count": 8,
   "id": "3df448cc",
   "metadata": {},
   "outputs": [
    {
     "data": {
      "text/plain": [
       "(16100, 123)"
      ]
     },
     "execution_count": 8,
     "metadata": {},
     "output_type": "execute_result"
    }
   ],
   "source": [
    "A.shape"
   ]
  },
  {
   "cell_type": "code",
   "execution_count": 9,
   "id": "f5089a0a",
   "metadata": {},
   "outputs": [],
   "source": [
    "from decentralized.oracles import ArrayPair"
   ]
  },
  {
   "cell_type": "code",
   "execution_count": 10,
   "id": "13af6a09",
   "metadata": {},
   "outputs": [],
   "source": [
    "z_0 = ArrayPair.zeros(A.shape[1])"
   ]
  },
  {
   "cell_type": "markdown",
   "id": "24863318",
   "metadata": {},
   "source": [
    "# Oracles"
   ]
  },
  {
   "cell_type": "code",
   "execution_count": 11,
   "id": "56cae611",
   "metadata": {},
   "outputs": [],
   "source": [
    "from utils import get_oracles"
   ]
  },
  {
   "cell_type": "code",
   "execution_count": 12,
   "id": "e888949b",
   "metadata": {},
   "outputs": [
    {
     "name": "stdout",
     "output_type": "stream",
     "text": [
      "L = 54.000, delta = 3.062, mu = 2.000\n"
     ]
    }
   ],
   "source": [
    "oracles, oracle_mean, L, delta, mu, A_grad, b_grad = get_oracles(\n",
    "    A,\n",
    "    b,\n",
    "    num_nodes,\n",
    "    regcoef_x,\n",
    "    regcoef_y,\n",
    "    r_x,\n",
    "    r_y,\n",
    ")"
   ]
  },
  {
   "cell_type": "markdown",
   "id": "1e144c2e",
   "metadata": {},
   "source": [
    "# Run"
   ]
  },
  {
   "cell_type": "markdown",
   "id": "c8bec360",
   "metadata": {},
   "source": [
    "## Solving linear regression"
   ]
  },
  {
   "cell_type": "code",
   "execution_count": 13,
   "id": "bb39f12f",
   "metadata": {},
   "outputs": [],
   "source": [
    "# x = np.linalg.inv(A_theor) @ b_theor\n",
    "# x = np.linalg.solve(A_grad, b_grad)"
   ]
  },
  {
   "cell_type": "code",
   "execution_count": 14,
   "id": "4567a8ad",
   "metadata": {},
   "outputs": [],
   "source": [
    "x = np.linalg.lstsq(A_grad, b_grad, rcond=None)[0]"
   ]
  },
  {
   "cell_type": "code",
   "execution_count": 15,
   "id": "507818fd",
   "metadata": {},
   "outputs": [
    {
     "data": {
      "text/plain": [
       "1.7806311083423514"
      ]
     },
     "execution_count": 15,
     "metadata": {},
     "output_type": "execute_result"
    }
   ],
   "source": [
    "np.linalg.norm(x)"
   ]
  },
  {
   "cell_type": "code",
   "execution_count": 16,
   "id": "e3f36e10",
   "metadata": {},
   "outputs": [],
   "source": [
    "z_true = ArrayPair(x, np.zeros(A.shape[1]))"
   ]
  },
  {
   "cell_type": "code",
   "execution_count": 17,
   "id": "365d42a7",
   "metadata": {},
   "outputs": [
    {
     "data": {
      "text/plain": [
       "array([-0.15866712, -0.16154333, -0.01363321,  0.07846524,  0.05307464,\n",
       "        0.10053642, -0.04040208,  0.23082448,  0.24909823,  0.05252727,\n",
       "        0.00848861, -0.40941521,  0.14304565, -0.09161828, -0.02566041,\n",
       "       -0.04572812, -0.01829476, -0.0210022 , -0.2081542 , -0.07055014,\n",
       "        0.03127643, -0.11329946,  0.16164484, -0.07795696, -0.02258644,\n",
       "       -0.0909147 , -0.13553561,  0.08203256, -0.04729441, -0.1468533 ,\n",
       "       -0.0110492 ,  0.27113665, -0.14911531, -0.15265011, -0.26890386,\n",
       "       -0.11329946, -0.07055014, -0.05712835,  0.30757804,  0.11721456,\n",
       "       -0.18237306, -0.14662593, -0.12288245, -0.10938847, -0.06024942,\n",
       "        0.21517089,  0.14288531, -0.05870323, -0.04560505,  0.05798946,\n",
       "        0.22320209,  0.09808518, -0.11087549, -0.09074427, -0.00258279,\n",
       "       -0.1981093 , -0.09293478,  0.01127542,  0.17450591, -0.22063611,\n",
       "        0.28710878, -0.1186307 ,  0.08261006, -0.19356367, -0.1297328 ,\n",
       "       -0.17351051, -0.01763393,  0.04701246, -0.07149717, -0.12569592,\n",
       "       -0.03448922, -0.08702808,  0.01496947, -0.26256616,  0.19050755,\n",
       "       -0.19310648,  0.12104787, -0.16553674, -0.09034745, -0.07839386,\n",
       "        0.0521295 ,  0.07984478,  0.13012309,  0.38104475,  0.12354467,\n",
       "       -0.00889134,  0.33328138,  0.01954599, -0.0998109 , -0.31145222,\n",
       "        0.19833047,  0.07444336, -0.07661751, -0.18789273,  0.05170374,\n",
       "       -0.11135657,  0.08607573,  0.16199452,  0.17041128, -0.00619181,\n",
       "        0.21480395, -0.15575849,  0.06938372,  0.10029401,  0.25986018,\n",
       "        0.00188529,  0.1592676 , -0.3002055 ,  0.26901619, -0.15027595,\n",
       "        0.21093548, -0.08094123, -0.05026229,  0.14428422, -0.01032003,\n",
       "        0.14184202, -0.03747702,  0.66700956,  0.13778185, -0.04441526,\n",
       "       -0.07461371, -0.13700437, -0.04341505])"
      ]
     },
     "execution_count": 17,
     "metadata": {},
     "output_type": "execute_result"
    }
   ],
   "source": [
    "z_true.x"
   ]
  },
  {
   "cell_type": "code",
   "execution_count": 18,
   "id": "247f5104",
   "metadata": {},
   "outputs": [],
   "source": [
    "g_true = ArrayPair(\n",
    "    np.zeros((num_nodes, z_true.x.shape[0])), np.zeros((num_nodes, z_true.y.shape[0]))\n",
    ")"
   ]
  },
  {
   "cell_type": "markdown",
   "id": "430be482",
   "metadata": {},
   "source": [
    "## Centralized Extragradient"
   ]
  },
  {
   "cell_type": "code",
   "execution_count": 38,
   "id": "2c488377",
   "metadata": {},
   "outputs": [],
   "source": [
    "from utils import solve_with_extragradient_real_data"
   ]
  },
  {
   "cell_type": "code",
   "execution_count": 39,
   "id": "ce25abcc",
   "metadata": {},
   "outputs": [
    {
     "name": "stdout",
     "output_type": "stream",
     "text": [
      "L = 54.000\n",
      "Solving with extragradient...\n",
      "argument_primal_value can be accessed at corresponding logger class fields.\n",
      "steps performed: 1\n",
      "time elapsed: 0:03:00.295388\n",
      "grad norm: 2.8753e-02\n"
     ]
    }
   ],
   "source": [
    "z_true = solve_with_extragradient_real_data(\n",
    "    A=A,\n",
    "    b=b,\n",
    "    regcoef_x=regcoef_x,\n",
    "    regcoef_y=regcoef_y,\n",
    "    r_x=r_x,\n",
    "    r_y=r_y,\n",
    "    num_iter=num_iter_solution,\n",
    "    max_time=max_time_solution,\n",
    "    tolerance=tolerance_solution,\n",
    ")"
   ]
  },
  {
   "cell_type": "code",
   "execution_count": 40,
   "id": "8cee5ae1",
   "metadata": {},
   "outputs": [
    {
     "data": {
      "text/plain": [
       "array([-4.38547962e-02, -2.28753537e-02, -4.64225104e-03,  6.56845103e-03,\n",
       "       -6.95219006e-04, -5.18709034e-02, -5.30572803e-03,  6.20024512e-03,\n",
       "        1.85622284e-03, -2.13401568e-03, -2.41174063e-03, -8.28280118e-05,\n",
       "       -4.70874080e-05, -1.57376556e-02, -1.05127454e-02, -1.26315474e-02,\n",
       "       -1.33984522e-02, -1.32187683e-02,  1.08452141e-02, -2.22279114e-02,\n",
       "       -7.97425371e-03, -3.90363951e-02,  5.75220011e-03, -2.70576656e-03,\n",
       "       -1.70654186e-03, -3.93863712e-03, -4.51816764e-03, -2.79715785e-03,\n",
       "        9.52548001e-03, -1.50840038e-03, -6.30417544e-03,  4.71748165e-03,\n",
       "       -3.03910263e-03, -5.83035102e-04, -3.06629299e-02, -3.90363951e-02,\n",
       "       -2.22279114e-02, -4.41230842e-03,  3.08403759e-02,  3.97139944e-02,\n",
       "       -2.41505631e-02, -6.59640490e-02, -6.75864642e-03, -5.85837249e-03,\n",
       "       -2.55484175e-03,  7.33094404e-05, -3.09842356e-06, -1.04864046e-02,\n",
       "       -2.14744720e-02, -4.35711559e-03,  1.60075414e-02,  1.19417331e-02,\n",
       "       -8.76123529e-03, -9.34235139e-03, -1.53508389e-02, -6.06812325e-03,\n",
       "       -5.05184138e-03, -1.08649098e-03,  3.00300059e-04, -1.63504843e-05,\n",
       "        6.63859566e-03, -3.43848622e-02,  3.41910895e-02, -4.23621786e-02,\n",
       "       -7.41502872e-03, -2.21667845e-02, -4.39926220e-02, -2.68655609e-03,\n",
       "       -1.69783898e-03, -1.95389198e-03, -1.51682598e-02, -5.17871848e-02,\n",
       "       -1.37119840e-02, -8.26242881e-02,  1.71251192e-02, -7.13005062e-02,\n",
       "        5.80133731e-03, -3.42524407e-02, -9.31893166e-03, -3.81352936e-02,\n",
       "        2.21978754e-03,  1.39877095e-02, -5.12683400e-02,  3.29987083e-05,\n",
       "       -4.62219285e-05, -8.72593091e-04,  2.42178444e-04, -3.28953473e-04,\n",
       "       -1.12274805e-04, -3.44018054e-04,  5.11509305e-06, -6.12658598e-05,\n",
       "       -3.34664361e-04, -2.54069799e-04, -2.66119624e-04, -9.66908534e-05,\n",
       "       -1.68683622e-04, -1.24868571e-04, -1.09119713e-04, -3.58475191e-04,\n",
       "       -3.51616518e-04, -4.98007267e-04, -4.78949321e-03, -1.98090082e-04,\n",
       "       -6.63650166e-05, -8.02062148e-05, -4.81351304e-04, -1.47533885e-04,\n",
       "       -4.65592557e-05, -1.37086825e-04, -2.14769884e-04, -5.06850410e-04,\n",
       "       -3.76647738e-05, -3.78091507e-04, -2.97420813e-04, -1.31842829e-06,\n",
       "       -1.23464337e-04,  1.62218626e-04, -8.30280153e-04, -1.82477661e-04,\n",
       "       -1.67140219e-04, -6.93091896e-05,  0.00000000e+00])"
      ]
     },
     "execution_count": 40,
     "metadata": {},
     "output_type": "execute_result"
    }
   ],
   "source": [
    "z_true.x"
   ]
  },
  {
   "cell_type": "markdown",
   "id": "1ca5438a",
   "metadata": {},
   "source": [
    "## Decentralized Extragradient method"
   ]
  },
  {
   "cell_type": "code",
   "execution_count": 41,
   "id": "b58987f0",
   "metadata": {},
   "outputs": [],
   "source": [
    "from experiment import run_extragrad_gt"
   ]
  },
  {
   "cell_type": "code",
   "execution_count": 44,
   "id": "9568f204",
   "metadata": {},
   "outputs": [
    {
     "name": "stdout",
     "output_type": "stream",
     "text": [
      "Running decentralized extragradient...\n",
      "argument_primal_distance_to_consensus, argument_primal_distance_to_opt, gradient_primal_distance_to_opt can be accessed at corresponding logger class fields.\n"
     ]
    }
   ],
   "source": [
    "extragrad = run_extragrad_gt(\n",
    "    oracles=oracles,\n",
    "    L=L,\n",
    "    mu=mu,\n",
    "    z_0=z_0,\n",
    "    z_true=z_true,\n",
    "    g_true=g_true,\n",
    "    network=network,\n",
    "    r_x=r_x,\n",
    "    r_y=r_y,\n",
    "    comm_budget_experiment=comm_budget_experiment,\n",
    ")"
   ]
  },
  {
   "cell_type": "markdown",
   "id": "b08359b5",
   "metadata": {},
   "source": [
    "## Decentralized Extragradient method with consensus subroutine"
   ]
  },
  {
   "cell_type": "code",
   "execution_count": 45,
   "id": "2b6fb8c0",
   "metadata": {},
   "outputs": [],
   "source": [
    "from experiment import run_extragrad_con"
   ]
  },
  {
   "cell_type": "code",
   "execution_count": 46,
   "id": "8aa3eb59",
   "metadata": {},
   "outputs": [],
   "source": [
    "network.current_state = 0"
   ]
  },
  {
   "cell_type": "code",
   "execution_count": 47,
   "id": "ab342fcd",
   "metadata": {},
   "outputs": [
    {
     "name": "stdout",
     "output_type": "stream",
     "text": [
      "Running decentralized extragradient-con...\n",
      "T_consensus = 746890813\n"
     ]
    },
    {
     "ename": "KeyboardInterrupt",
     "evalue": "",
     "output_type": "error",
     "traceback": [
      "\u001b[0;31m---------------------------------------------------------------------------\u001b[0m",
      "\u001b[0;31mKeyboardInterrupt\u001b[0m                         Traceback (most recent call last)",
      "Cell \u001b[0;32mIn [47], line 1\u001b[0m\n\u001b[0;32m----> 1\u001b[0m extragrad_con \u001b[38;5;241m=\u001b[39m \u001b[43mrun_extragrad_con\u001b[49m\u001b[43m(\u001b[49m\n\u001b[1;32m      2\u001b[0m \u001b[43m    \u001b[49m\u001b[43moracles\u001b[49m\u001b[38;5;241;43m=\u001b[39;49m\u001b[43moracles\u001b[49m\u001b[43m,\u001b[49m\n\u001b[1;32m      3\u001b[0m \u001b[43m    \u001b[49m\u001b[43mL\u001b[49m\u001b[38;5;241;43m=\u001b[39;49m\u001b[43mL\u001b[49m\u001b[43m,\u001b[49m\n\u001b[1;32m      4\u001b[0m \u001b[43m    \u001b[49m\u001b[43mmu\u001b[49m\u001b[38;5;241;43m=\u001b[39;49m\u001b[43mmu\u001b[49m\u001b[43m,\u001b[49m\n\u001b[1;32m      5\u001b[0m \u001b[43m    \u001b[49m\u001b[43mz_0\u001b[49m\u001b[38;5;241;43m=\u001b[39;49m\u001b[43mz_0\u001b[49m\u001b[43m,\u001b[49m\n\u001b[1;32m      6\u001b[0m \u001b[43m    \u001b[49m\u001b[43mz_true\u001b[49m\u001b[38;5;241;43m=\u001b[39;49m\u001b[43mz_true\u001b[49m\u001b[43m,\u001b[49m\n\u001b[1;32m      7\u001b[0m \u001b[43m    \u001b[49m\u001b[43mg_true\u001b[49m\u001b[38;5;241;43m=\u001b[39;49m\u001b[43mg_true\u001b[49m\u001b[43m,\u001b[49m\n\u001b[1;32m      8\u001b[0m \u001b[43m    \u001b[49m\u001b[43mnetwork\u001b[49m\u001b[38;5;241;43m=\u001b[39;49m\u001b[43mnetwork\u001b[49m\u001b[43m,\u001b[49m\n\u001b[1;32m      9\u001b[0m \u001b[43m    \u001b[49m\u001b[43mr_x\u001b[49m\u001b[38;5;241;43m=\u001b[39;49m\u001b[43mr_x\u001b[49m\u001b[43m,\u001b[49m\n\u001b[1;32m     10\u001b[0m \u001b[43m    \u001b[49m\u001b[43mr_y\u001b[49m\u001b[38;5;241;43m=\u001b[39;49m\u001b[43mr_y\u001b[49m\u001b[43m,\u001b[49m\n\u001b[1;32m     11\u001b[0m \u001b[43m    \u001b[49m\u001b[43meps\u001b[49m\u001b[38;5;241;43m=\u001b[39;49m\u001b[43meps\u001b[49m\u001b[43m,\u001b[49m\n\u001b[1;32m     12\u001b[0m \u001b[43m    \u001b[49m\u001b[43mcomm_budget_experiment\u001b[49m\u001b[38;5;241;43m=\u001b[39;49m\u001b[43mcomm_budget_experiment\u001b[49m\u001b[43m,\u001b[49m\n\u001b[1;32m     13\u001b[0m \u001b[43m)\u001b[49m\n",
      "File \u001b[0;32m~/Documents/DistributedOpt/opt_distr_stoch_vi_varying/decentralized/../decentralized/experiment/decentralized_extragradient_con.py:53\u001b[0m, in \u001b[0;36mrun_extragrad_con\u001b[0;34m(oracles, L, mu, z_0, z_true, g_true, network, r_x, r_y, eps, comm_budget_experiment, stepsize_factor)\u001b[0m\n\u001b[1;32m     49\u001b[0m \u001b[38;5;28mprint\u001b[39m(\u001b[38;5;124m\"\u001b[39m\u001b[38;5;124mT_consensus = \u001b[39m\u001b[38;5;132;01m{}\u001b[39;00m\u001b[38;5;124m\"\u001b[39m\u001b[38;5;241m.\u001b[39mformat(extragrad_con_runner\u001b[38;5;241m.\u001b[39mmethod\u001b[38;5;241m.\u001b[39mcon_iters))\n\u001b[1;32m     50\u001b[0m extragrad_con_runner\u001b[38;5;241m.\u001b[39mmethod\u001b[38;5;241m.\u001b[39mlogger\u001b[38;5;241m.\u001b[39mcomm_per_iter \u001b[38;5;241m=\u001b[39m (\n\u001b[1;32m     51\u001b[0m     \u001b[38;5;241m2\u001b[39m \u001b[38;5;241m*\u001b[39m extragrad_con_runner\u001b[38;5;241m.\u001b[39mmethod\u001b[38;5;241m.\u001b[39mcon_iters\n\u001b[1;32m     52\u001b[0m )\n\u001b[0;32m---> 53\u001b[0m \u001b[43mextragrad_con_runner\u001b[49m\u001b[38;5;241;43m.\u001b[39;49m\u001b[43mrun\u001b[49m\u001b[43m(\u001b[49m\u001b[43mmax_iter\u001b[49m\u001b[38;5;241;43m=\u001b[39;49m\u001b[43mcomm_budget_experiment\u001b[49m\u001b[43m)\u001b[49m\n\u001b[1;32m     55\u001b[0m \u001b[38;5;28;01mreturn\u001b[39;00m extragrad_con_runner\n",
      "File \u001b[0;32m~/Documents/DistributedOpt/opt_distr_stoch_vi_varying/decentralized/../decentralized/runners/decentralized_extragradient_runner_con.py:58\u001b[0m, in \u001b[0;36mDecentralizedExtragradientConRunner.run\u001b[0;34m(self, max_iter, max_time)\u001b[0m\n\u001b[1;32m     57\u001b[0m \u001b[38;5;28;01mdef\u001b[39;00m \u001b[38;5;21mrun\u001b[39m(\u001b[38;5;28mself\u001b[39m, max_iter, max_time\u001b[38;5;241m=\u001b[39m\u001b[38;5;28;01mNone\u001b[39;00m):\n\u001b[0;32m---> 58\u001b[0m     \u001b[38;5;28;43mself\u001b[39;49m\u001b[38;5;241;43m.\u001b[39;49m\u001b[43mmethod\u001b[49m\u001b[38;5;241;43m.\u001b[39;49m\u001b[43mrun\u001b[49m\u001b[43m(\u001b[49m\u001b[43mmax_iter\u001b[49m\u001b[43m,\u001b[49m\u001b[43m \u001b[49m\u001b[43mmax_time\u001b[49m\u001b[43m)\u001b[49m\n",
      "File \u001b[0;32m~/Documents/DistributedOpt/opt_distr_stoch_vi_varying/decentralized/../decentralized/methods/base.py:80\u001b[0m, in \u001b[0;36mBaseSaddleMethod.run\u001b[0;34m(self, max_iter, max_time)\u001b[0m\n\u001b[1;32m     78\u001b[0m \u001b[38;5;28mself\u001b[39m\u001b[38;5;241m.\u001b[39m_update_time()\n\u001b[1;32m     79\u001b[0m \u001b[38;5;28;01mtry\u001b[39;00m:\n\u001b[0;32m---> 80\u001b[0m     \u001b[38;5;28;43mself\u001b[39;49m\u001b[38;5;241;43m.\u001b[39;49m\u001b[43mstep\u001b[49m\u001b[43m(\u001b[49m\u001b[43m)\u001b[49m\n\u001b[1;32m     81\u001b[0m \u001b[38;5;28;01mexcept\u001b[39;00m \u001b[38;5;167;01mStopIteration\u001b[39;00m:\n\u001b[1;32m     82\u001b[0m     \u001b[38;5;28;01mbreak\u001b[39;00m\n",
      "File \u001b[0;32m~/Documents/DistributedOpt/opt_distr_stoch_vi_varying/decentralized/../decentralized/methods/decentralized_extragradient_con.py:84\u001b[0m, in \u001b[0;36mDecentralizedExtragradientCon.step\u001b[0;34m(self)\u001b[0m\n\u001b[1;32m     82\u001b[0m \u001b[38;5;28mself\u001b[39m\u001b[38;5;241m.\u001b[39mgrad_list_z \u001b[38;5;241m=\u001b[39m \u001b[38;5;28mself\u001b[39m\u001b[38;5;241m.\u001b[39moracle_grad_list(\u001b[38;5;28mself\u001b[39m\u001b[38;5;241m.\u001b[39mz_list)\n\u001b[1;32m     83\u001b[0m z_half \u001b[38;5;241m=\u001b[39m \u001b[38;5;28mself\u001b[39m\u001b[38;5;241m.\u001b[39mz_list \u001b[38;5;241m-\u001b[39m \u001b[38;5;28mself\u001b[39m\u001b[38;5;241m.\u001b[39mstepsize \u001b[38;5;241m*\u001b[39m \u001b[38;5;28mself\u001b[39m\u001b[38;5;241m.\u001b[39mgrad_list_z\n\u001b[0;32m---> 84\u001b[0m z_half \u001b[38;5;241m=\u001b[39m \u001b[38;5;28;43mself\u001b[39;49m\u001b[38;5;241;43m.\u001b[39;49m\u001b[43macc_gossip\u001b[49m\u001b[43m(\u001b[49m\u001b[43mz_half\u001b[49m\u001b[43m,\u001b[49m\u001b[43m \u001b[49m\u001b[38;5;28;43mself\u001b[39;49m\u001b[38;5;241;43m.\u001b[39;49m\u001b[43mcon_iters\u001b[49m\u001b[43m)\u001b[49m\n\u001b[1;32m     85\u001b[0m \u001b[38;5;28mself\u001b[39m\u001b[38;5;241m.\u001b[39mconstraints\u001b[38;5;241m.\u001b[39mapply_per_row(z_half)\n\u001b[1;32m     86\u001b[0m \u001b[38;5;28mself\u001b[39m\u001b[38;5;241m.\u001b[39mz_list \u001b[38;5;241m=\u001b[39m \u001b[38;5;28mself\u001b[39m\u001b[38;5;241m.\u001b[39mz_list \u001b[38;5;241m-\u001b[39m \u001b[38;5;28mself\u001b[39m\u001b[38;5;241m.\u001b[39mstepsize \u001b[38;5;241m*\u001b[39m \u001b[38;5;28mself\u001b[39m\u001b[38;5;241m.\u001b[39moracle_grad_list(z_half)\n",
      "File \u001b[0;32m~/Documents/DistributedOpt/opt_distr_stoch_vi_varying/decentralized/../decentralized/methods/decentralized_extragradient_con.py:143\u001b[0m, in \u001b[0;36mDecentralizedExtragradientCon.acc_gossip\u001b[0;34m(self, z, n_iters)\u001b[0m\n\u001b[1;32m    137\u001b[0m     z_new\u001b[38;5;241m.\u001b[39mx \u001b[38;5;241m=\u001b[39m (\u001b[38;5;241m1\u001b[39m \u001b[38;5;241m+\u001b[39m \u001b[38;5;28mself\u001b[39m\u001b[38;5;241m.\u001b[39mgossip_step) \u001b[38;5;241m*\u001b[39m \u001b[38;5;28mself\u001b[39m\u001b[38;5;241m.\u001b[39mmix_mat\u001b[38;5;241m.\u001b[39mdot(\n\u001b[1;32m    138\u001b[0m         z\u001b[38;5;241m.\u001b[39mx\n\u001b[1;32m    139\u001b[0m     ) \u001b[38;5;241m-\u001b[39m \u001b[38;5;28mself\u001b[39m\u001b[38;5;241m.\u001b[39mgossip_step \u001b[38;5;241m*\u001b[39m z_old\u001b[38;5;241m.\u001b[39mx\n\u001b[1;32m    140\u001b[0m     z_new\u001b[38;5;241m.\u001b[39my \u001b[38;5;241m=\u001b[39m (\u001b[38;5;241m1\u001b[39m \u001b[38;5;241m+\u001b[39m \u001b[38;5;28mself\u001b[39m\u001b[38;5;241m.\u001b[39mgossip_step) \u001b[38;5;241m*\u001b[39m \u001b[38;5;28mself\u001b[39m\u001b[38;5;241m.\u001b[39mmix_mat\u001b[38;5;241m.\u001b[39mdot(\n\u001b[1;32m    141\u001b[0m         z\u001b[38;5;241m.\u001b[39my\n\u001b[1;32m    142\u001b[0m     ) \u001b[38;5;241m-\u001b[39m \u001b[38;5;28mself\u001b[39m\u001b[38;5;241m.\u001b[39mgossip_step \u001b[38;5;241m*\u001b[39m z_old\u001b[38;5;241m.\u001b[39my\n\u001b[0;32m--> 143\u001b[0m     z_old \u001b[38;5;241m=\u001b[39m \u001b[43mz\u001b[49m\u001b[38;5;241;43m.\u001b[39;49m\u001b[43mcopy\u001b[49m\u001b[43m(\u001b[49m\u001b[43m)\u001b[49m\n\u001b[1;32m    144\u001b[0m     z \u001b[38;5;241m=\u001b[39m z_new\u001b[38;5;241m.\u001b[39mcopy()\n\u001b[1;32m    145\u001b[0m \u001b[38;5;28;01mreturn\u001b[39;00m z\n",
      "File \u001b[0;32m~/Documents/DistributedOpt/opt_distr_stoch_vi_varying/decentralized/../decentralized/oracles/base.py:48\u001b[0m, in \u001b[0;36mArrayPair.copy\u001b[0;34m(self)\u001b[0m\n\u001b[1;32m     47\u001b[0m \u001b[38;5;28;01mdef\u001b[39;00m \u001b[38;5;21mcopy\u001b[39m(\u001b[38;5;28mself\u001b[39m):\n\u001b[0;32m---> 48\u001b[0m     \u001b[38;5;28;01mreturn\u001b[39;00m \u001b[43mArrayPair\u001b[49m\u001b[43m(\u001b[49m\u001b[38;5;28;43mself\u001b[39;49m\u001b[38;5;241;43m.\u001b[39;49m\u001b[43mx\u001b[49m\u001b[38;5;241;43m.\u001b[39;49m\u001b[43mcopy\u001b[49m\u001b[43m(\u001b[49m\u001b[43m)\u001b[49m\u001b[43m,\u001b[49m\u001b[43m \u001b[49m\u001b[38;5;28;43mself\u001b[39;49m\u001b[38;5;241;43m.\u001b[39;49m\u001b[43my\u001b[49m\u001b[38;5;241;43m.\u001b[39;49m\u001b[43mcopy\u001b[49m\u001b[43m(\u001b[49m\u001b[43m)\u001b[49m\u001b[43m)\u001b[49m\n",
      "File \u001b[0;32m~/Documents/DistributedOpt/opt_distr_stoch_vi_varying/decentralized/../decentralized/oracles/base.py:17\u001b[0m, in \u001b[0;36mArrayPair.__init__\u001b[0;34m(self, x, y)\u001b[0m\n\u001b[1;32m      6\u001b[0m \u001b[38;5;28;01mclass\u001b[39;00m \u001b[38;5;21;01mArrayPair\u001b[39;00m(\u001b[38;5;28mobject\u001b[39m):\n\u001b[1;32m      7\u001b[0m     \u001b[38;5;124;03m\"\"\"\u001b[39;00m\n\u001b[1;32m      8\u001b[0m \u001b[38;5;124;03m    Stores a pair of np.ndarrays representing x and y variables in a saddle-point problem.\u001b[39;00m\n\u001b[1;32m      9\u001b[0m \n\u001b[0;32m   (...)\u001b[0m\n\u001b[1;32m     14\u001b[0m \u001b[38;5;124;03m    y: np.ndarray\u001b[39;00m\n\u001b[1;32m     15\u001b[0m \u001b[38;5;124;03m    \"\"\"\u001b[39;00m\n\u001b[0;32m---> 17\u001b[0m     \u001b[38;5;28;01mdef\u001b[39;00m \u001b[38;5;21m__init__\u001b[39m(\u001b[38;5;28mself\u001b[39m, x: np\u001b[38;5;241m.\u001b[39mndarray, y: np\u001b[38;5;241m.\u001b[39mndarray):\n\u001b[1;32m     18\u001b[0m         \u001b[38;5;28mself\u001b[39m\u001b[38;5;241m.\u001b[39mx \u001b[38;5;241m=\u001b[39m x\n\u001b[1;32m     19\u001b[0m         \u001b[38;5;28mself\u001b[39m\u001b[38;5;241m.\u001b[39my \u001b[38;5;241m=\u001b[39m y\n",
      "\u001b[0;31mKeyboardInterrupt\u001b[0m: "
     ]
    }
   ],
   "source": [
    "extragrad_con = run_extragrad_con(\n",
    "    oracles=oracles,\n",
    "    L=L,\n",
    "    mu=mu,\n",
    "    z_0=z_0,\n",
    "    z_true=z_true,\n",
    "    g_true=g_true,\n",
    "    network=network,\n",
    "    r_x=r_x,\n",
    "    r_y=r_y,\n",
    "    eps=eps,\n",
    "    comm_budget_experiment=comm_budget_experiment,\n",
    ")"
   ]
  },
  {
   "cell_type": "markdown",
   "id": "a190f353",
   "metadata": {},
   "source": [
    "## Decentralized gradient sliding"
   ]
  },
  {
   "cell_type": "code",
   "execution_count": 48,
   "id": "e5f5f591",
   "metadata": {},
   "outputs": [],
   "source": [
    "from experiment import run_sliding"
   ]
  },
  {
   "cell_type": "code",
   "execution_count": 49,
   "id": "e0de72f4",
   "metadata": {},
   "outputs": [],
   "source": [
    "network.current_state = 0"
   ]
  },
  {
   "cell_type": "code",
   "execution_count": 50,
   "id": "12f59474",
   "metadata": {},
   "outputs": [
    {
     "name": "stdout",
     "output_type": "stream",
     "text": [
      "Running decentralized sliding...\n",
      "H_0 = 1069883567, H_1 = 1028395764, T_subproblem = 6\n"
     ]
    },
    {
     "ename": "KeyboardInterrupt",
     "evalue": "",
     "output_type": "error",
     "traceback": [
      "\u001b[0;31m---------------------------------------------------------------------------\u001b[0m",
      "\u001b[0;31mKeyboardInterrupt\u001b[0m                         Traceback (most recent call last)",
      "Cell \u001b[0;32mIn [50], line 1\u001b[0m\n\u001b[0;32m----> 1\u001b[0m sliding \u001b[38;5;241m=\u001b[39m \u001b[43mrun_sliding\u001b[49m\u001b[43m(\u001b[49m\n\u001b[1;32m      2\u001b[0m \u001b[43m    \u001b[49m\u001b[43moracles\u001b[49m\u001b[38;5;241;43m=\u001b[39;49m\u001b[43moracles\u001b[49m\u001b[43m,\u001b[49m\n\u001b[1;32m      3\u001b[0m \u001b[43m    \u001b[49m\u001b[43mL\u001b[49m\u001b[38;5;241;43m=\u001b[39;49m\u001b[43mL\u001b[49m\u001b[43m,\u001b[49m\n\u001b[1;32m      4\u001b[0m \u001b[43m    \u001b[49m\u001b[43mdelta\u001b[49m\u001b[38;5;241;43m=\u001b[39;49m\u001b[43mdelta\u001b[49m\u001b[43m,\u001b[49m\n\u001b[1;32m      5\u001b[0m \u001b[43m    \u001b[49m\u001b[43mmu\u001b[49m\u001b[38;5;241;43m=\u001b[39;49m\u001b[43mmu\u001b[49m\u001b[43m,\u001b[49m\n\u001b[1;32m      6\u001b[0m \u001b[43m    \u001b[49m\u001b[43mz_0\u001b[49m\u001b[38;5;241;43m=\u001b[39;49m\u001b[43mz_0\u001b[49m\u001b[43m,\u001b[49m\n\u001b[1;32m      7\u001b[0m \u001b[43m    \u001b[49m\u001b[43mz_true\u001b[49m\u001b[38;5;241;43m=\u001b[39;49m\u001b[43mz_true\u001b[49m\u001b[43m,\u001b[49m\n\u001b[1;32m      8\u001b[0m \u001b[43m    \u001b[49m\u001b[43mg_true\u001b[49m\u001b[38;5;241;43m=\u001b[39;49m\u001b[43mg_true\u001b[49m\u001b[43m,\u001b[49m\n\u001b[1;32m      9\u001b[0m \u001b[43m    \u001b[49m\u001b[43mnetwork\u001b[49m\u001b[38;5;241;43m=\u001b[39;49m\u001b[43mnetwork\u001b[49m\u001b[43m,\u001b[49m\n\u001b[1;32m     10\u001b[0m \u001b[43m    \u001b[49m\u001b[43mr_x\u001b[49m\u001b[38;5;241;43m=\u001b[39;49m\u001b[43mr_x\u001b[49m\u001b[43m,\u001b[49m\n\u001b[1;32m     11\u001b[0m \u001b[43m    \u001b[49m\u001b[43mr_y\u001b[49m\u001b[38;5;241;43m=\u001b[39;49m\u001b[43mr_y\u001b[49m\u001b[43m,\u001b[49m\n\u001b[1;32m     12\u001b[0m \u001b[43m    \u001b[49m\u001b[43meps\u001b[49m\u001b[38;5;241;43m=\u001b[39;49m\u001b[43meps\u001b[49m\u001b[43m,\u001b[49m\n\u001b[1;32m     13\u001b[0m \u001b[43m    \u001b[49m\u001b[43mcomm_budget_experiment\u001b[49m\u001b[38;5;241;43m=\u001b[39;49m\u001b[43mcomm_budget_experiment\u001b[49m\u001b[43m,\u001b[49m\n\u001b[1;32m     14\u001b[0m \u001b[43m)\u001b[49m\n",
      "File \u001b[0;32m~/Documents/DistributedOpt/opt_distr_stoch_vi_varying/decentralized/../decentralized/experiment/saddle_sliding.py:64\u001b[0m, in \u001b[0;36mrun_sliding\u001b[0;34m(oracles, L, delta, mu, z_0, z_true, g_true, network, r_x, r_y, eps, comm_budget_experiment, stepsize_factor)\u001b[0m\n\u001b[1;32m     54\u001b[0m \u001b[38;5;28mprint\u001b[39m(\n\u001b[1;32m     55\u001b[0m     \u001b[38;5;124m\"\u001b[39m\u001b[38;5;124mH_0 = \u001b[39m\u001b[38;5;132;01m{}\u001b[39;00m\u001b[38;5;124m, H_1 = \u001b[39m\u001b[38;5;132;01m{}\u001b[39;00m\u001b[38;5;124m, T_subproblem = \u001b[39m\u001b[38;5;132;01m{}\u001b[39;00m\u001b[38;5;124m\"\u001b[39m\u001b[38;5;241m.\u001b[39mformat(\n\u001b[1;32m     56\u001b[0m         sliding_runner\u001b[38;5;241m.\u001b[39mcon_iters_grad,\n\u001b[0;32m   (...)\u001b[0m\n\u001b[1;32m     59\u001b[0m     )\n\u001b[1;32m     60\u001b[0m )\n\u001b[1;32m     61\u001b[0m sliding_runner\u001b[38;5;241m.\u001b[39mmethod\u001b[38;5;241m.\u001b[39mlogger\u001b[38;5;241m.\u001b[39mcomm_per_iter \u001b[38;5;241m=\u001b[39m sliding_comm_per_iter(\n\u001b[1;32m     62\u001b[0m     sliding_runner\u001b[38;5;241m.\u001b[39mmethod\n\u001b[1;32m     63\u001b[0m )\n\u001b[0;32m---> 64\u001b[0m \u001b[43msliding_runner\u001b[49m\u001b[38;5;241;43m.\u001b[39;49m\u001b[43mrun\u001b[49m\u001b[43m(\u001b[49m\u001b[43mmax_iter\u001b[49m\u001b[38;5;241;43m=\u001b[39;49m\u001b[43mcomm_budget_experiment\u001b[49m\u001b[43m)\u001b[49m\n\u001b[1;32m     66\u001b[0m \u001b[38;5;28;01mreturn\u001b[39;00m sliding_runner\n",
      "File \u001b[0;32m~/Documents/DistributedOpt/opt_distr_stoch_vi_varying/decentralized/../decentralized/runners/decentralized_sliding_runner.py:93\u001b[0m, in \u001b[0;36mDecentralizedSaddleSlidingRunner.run\u001b[0;34m(self, max_iter, max_time)\u001b[0m\n\u001b[1;32m     92\u001b[0m \u001b[38;5;28;01mdef\u001b[39;00m \u001b[38;5;21mrun\u001b[39m(\u001b[38;5;28mself\u001b[39m, max_iter, max_time\u001b[38;5;241m=\u001b[39m\u001b[38;5;28;01mNone\u001b[39;00m):\n\u001b[0;32m---> 93\u001b[0m     \u001b[38;5;28;43mself\u001b[39;49m\u001b[38;5;241;43m.\u001b[39;49m\u001b[43mmethod\u001b[49m\u001b[38;5;241;43m.\u001b[39;49m\u001b[43mrun\u001b[49m\u001b[43m(\u001b[49m\u001b[43mmax_iter\u001b[49m\u001b[43m,\u001b[49m\u001b[43m \u001b[49m\u001b[43mmax_time\u001b[49m\u001b[43m)\u001b[49m\n",
      "File \u001b[0;32m~/Documents/DistributedOpt/opt_distr_stoch_vi_varying/decentralized/../decentralized/methods/base.py:80\u001b[0m, in \u001b[0;36mBaseSaddleMethod.run\u001b[0;34m(self, max_iter, max_time)\u001b[0m\n\u001b[1;32m     78\u001b[0m \u001b[38;5;28mself\u001b[39m\u001b[38;5;241m.\u001b[39m_update_time()\n\u001b[1;32m     79\u001b[0m \u001b[38;5;28;01mtry\u001b[39;00m:\n\u001b[0;32m---> 80\u001b[0m     \u001b[38;5;28;43mself\u001b[39;49m\u001b[38;5;241;43m.\u001b[39;49m\u001b[43mstep\u001b[49m\u001b[43m(\u001b[49m\u001b[43m)\u001b[49m\n\u001b[1;32m     81\u001b[0m \u001b[38;5;28;01mexcept\u001b[39;00m \u001b[38;5;167;01mStopIteration\u001b[39;00m:\n\u001b[1;32m     82\u001b[0m     \u001b[38;5;28;01mbreak\u001b[39;00m\n",
      "File \u001b[0;32m~/Documents/DistributedOpt/opt_distr_stoch_vi_varying/decentralized/../decentralized/methods/saddle_sliding.py:211\u001b[0m, in \u001b[0;36mDecentralizedSaddleSliding.step\u001b[0;34m(self)\u001b[0m\n\u001b[1;32m    209\u001b[0m \u001b[38;5;28;01mdef\u001b[39;00m \u001b[38;5;21mstep\u001b[39m(\u001b[38;5;28mself\u001b[39m):\n\u001b[1;32m    210\u001b[0m     \u001b[38;5;28mself\u001b[39m\u001b[38;5;241m.\u001b[39mgrad_list_z \u001b[38;5;241m=\u001b[39m \u001b[38;5;28mself\u001b[39m\u001b[38;5;241m.\u001b[39moracle_grad_list(\u001b[38;5;28mself\u001b[39m\u001b[38;5;241m.\u001b[39mz_list)\n\u001b[0;32m--> 211\u001b[0m     grad_av_z \u001b[38;5;241m=\u001b[39m \u001b[38;5;28;43mself\u001b[39;49m\u001b[38;5;241;43m.\u001b[39;49m\u001b[43macc_gossip\u001b[49m\u001b[43m(\u001b[49m\u001b[38;5;28;43mself\u001b[39;49m\u001b[38;5;241;43m.\u001b[39;49m\u001b[43mgrad_list_z\u001b[49m\u001b[43m,\u001b[49m\u001b[43m \u001b[49m\u001b[38;5;28;43mself\u001b[39;49m\u001b[38;5;241;43m.\u001b[39;49m\u001b[43mcon_iters_grad\u001b[49m\u001b[43m)\u001b[49m\n\u001b[1;32m    212\u001b[0m     m \u001b[38;5;241m=\u001b[39m np\u001b[38;5;241m.\u001b[39mrandom\u001b[38;5;241m.\u001b[39mrandint(\u001b[38;5;241m0\u001b[39m, \u001b[38;5;28mself\u001b[39m\u001b[38;5;241m.\u001b[39m_num_nodes, size\u001b[38;5;241m=\u001b[39m\u001b[38;5;241m1\u001b[39m)[\u001b[38;5;241m0\u001b[39m]\n\u001b[1;32m    213\u001b[0m     grad_z_m \u001b[38;5;241m=\u001b[39m ArrayPair(\u001b[38;5;28mself\u001b[39m\u001b[38;5;241m.\u001b[39mgrad_list_z\u001b[38;5;241m.\u001b[39mx[m], \u001b[38;5;28mself\u001b[39m\u001b[38;5;241m.\u001b[39mgrad_list_z\u001b[38;5;241m.\u001b[39my[m])\n",
      "File \u001b[0;32m~/Documents/DistributedOpt/opt_distr_stoch_vi_varying/decentralized/../decentralized/methods/saddle_sliding.py:282\u001b[0m, in \u001b[0;36mDecentralizedSaddleSliding.acc_gossip\u001b[0;34m(self, z, n_iters)\u001b[0m\n\u001b[1;32m    278\u001b[0m z_new \u001b[38;5;241m=\u001b[39m ArrayPair(np\u001b[38;5;241m.\u001b[39mempty_like(z\u001b[38;5;241m.\u001b[39mx), np\u001b[38;5;241m.\u001b[39mempty_like(z\u001b[38;5;241m.\u001b[39my))\n\u001b[1;32m    279\u001b[0m z_new\u001b[38;5;241m.\u001b[39mx \u001b[38;5;241m=\u001b[39m (\u001b[38;5;241m1\u001b[39m \u001b[38;5;241m+\u001b[39m \u001b[38;5;28mself\u001b[39m\u001b[38;5;241m.\u001b[39mgossip_step) \u001b[38;5;241m*\u001b[39m \u001b[38;5;28mself\u001b[39m\u001b[38;5;241m.\u001b[39mmix_mat\u001b[38;5;241m.\u001b[39mdot(\n\u001b[1;32m    280\u001b[0m     z\u001b[38;5;241m.\u001b[39mx\n\u001b[1;32m    281\u001b[0m ) \u001b[38;5;241m-\u001b[39m \u001b[38;5;28mself\u001b[39m\u001b[38;5;241m.\u001b[39mgossip_step \u001b[38;5;241m*\u001b[39m z_old\u001b[38;5;241m.\u001b[39mx\n\u001b[0;32m--> 282\u001b[0m z_new\u001b[38;5;241m.\u001b[39my \u001b[38;5;241m=\u001b[39m (\u001b[38;5;241m1\u001b[39m \u001b[38;5;241m+\u001b[39m \u001b[38;5;28mself\u001b[39m\u001b[38;5;241m.\u001b[39mgossip_step) \u001b[38;5;241m*\u001b[39m \u001b[38;5;28;43mself\u001b[39;49m\u001b[38;5;241;43m.\u001b[39;49m\u001b[43mmix_mat\u001b[49m\u001b[38;5;241;43m.\u001b[39;49m\u001b[43mdot\u001b[49m\u001b[43m(\u001b[49m\n\u001b[1;32m    283\u001b[0m \u001b[43m    \u001b[49m\u001b[43mz\u001b[49m\u001b[38;5;241;43m.\u001b[39;49m\u001b[43my\u001b[49m\n\u001b[1;32m    284\u001b[0m \u001b[43m\u001b[49m\u001b[43m)\u001b[49m \u001b[38;5;241m-\u001b[39m \u001b[38;5;28mself\u001b[39m\u001b[38;5;241m.\u001b[39mgossip_step \u001b[38;5;241m*\u001b[39m z_old\u001b[38;5;241m.\u001b[39my\n\u001b[1;32m    285\u001b[0m z_old \u001b[38;5;241m=\u001b[39m z\u001b[38;5;241m.\u001b[39mcopy()\n\u001b[1;32m    286\u001b[0m z \u001b[38;5;241m=\u001b[39m z_new\u001b[38;5;241m.\u001b[39mcopy()\n",
      "\u001b[0;31mKeyboardInterrupt\u001b[0m: "
     ]
    }
   ],
   "source": [
    "sliding = run_sliding(\n",
    "    oracles=oracles,\n",
    "    L=L,\n",
    "    delta=delta,\n",
    "    mu=mu,\n",
    "    z_0=z_0,\n",
    "    z_true=z_true,\n",
    "    g_true=g_true,\n",
    "    network=network,\n",
    "    r_x=r_x,\n",
    "    r_y=r_y,\n",
    "    eps=eps,\n",
    "    comm_budget_experiment=comm_budget_experiment,\n",
    ")"
   ]
  },
  {
   "cell_type": "markdown",
   "id": "e4a20c36",
   "metadata": {},
   "source": [
    "## Decentralized Algorithm 1"
   ]
  },
  {
   "cell_type": "code",
   "execution_count": null,
   "id": "ddaf16e4",
   "metadata": {},
   "outputs": [],
   "source": [
    "from experiment import run_vi_papc"
   ]
  },
  {
   "cell_type": "code",
   "execution_count": null,
   "id": "f3bff7e9",
   "metadata": {},
   "outputs": [],
   "source": [
    "network.current_state = 0\n",
    "network.matrix_type = \"gos_mat\""
   ]
  },
  {
   "cell_type": "code",
   "execution_count": null,
   "id": "9fd30354",
   "metadata": {},
   "outputs": [],
   "source": [
    "vi_papc = run_vi_papc(\n",
    "    num_nodes=num_nodes,\n",
    "    oracles=oracles,\n",
    "    L=L,\n",
    "    mu=mu,\n",
    "    z_0=z_0,\n",
    "    z_true=z_true,\n",
    "    g_true=g_true,\n",
    "    network=network,\n",
    "    r_x=r_x,\n",
    "    r_y=r_y,\n",
    "    comm_budget_experiment=comm_budget_experiment,\n",
    ")"
   ]
  },
  {
   "cell_type": "markdown",
   "id": "69dcb5bd",
   "metadata": {},
   "source": [
    "## Decentralized Alogorithm 2"
   ]
  },
  {
   "cell_type": "code",
   "execution_count": null,
   "id": "b806f5d8",
   "metadata": {},
   "outputs": [],
   "source": [
    "from experiment import run_vi_adom"
   ]
  },
  {
   "cell_type": "code",
   "execution_count": null,
   "id": "afda7eec",
   "metadata": {},
   "outputs": [],
   "source": [
    "network.current_state = 0\n",
    "network.matrix_type = \"gos_mat\""
   ]
  },
  {
   "cell_type": "code",
   "execution_count": null,
   "id": "fae1cb2e",
   "metadata": {},
   "outputs": [],
   "source": [
    "batch_size = len(oracles)\n",
    "L_avg = L"
   ]
  },
  {
   "cell_type": "code",
   "execution_count": null,
   "id": "da8aed1b",
   "metadata": {},
   "outputs": [],
   "source": [
    "x_0 = ArrayPair.zeros(A.shape[1])\n",
    "y_0 = ArrayPair.zeros(A.shape[1])        "
   ]
  },
  {
   "cell_type": "code",
   "execution_count": null,
   "id": "572214f3",
   "metadata": {},
   "outputs": [],
   "source": [
    "vi_adom = run_vi_adom(\n",
    "    num_nodes=num_nodes,\n",
    "    oracles=oracles,\n",
    "    b=batch_size,\n",
    "    L=L,\n",
    "    L_avg=L_avg,\n",
    "    mu=mu,\n",
    "    x_0=x_0,\n",
    "    y_0=y_0,\n",
    "    z_0=z_0,\n",
    "    z_true=z_true,\n",
    "    g_true=g_true,\n",
    "    network=network,\n",
    "    r_x=r_x,\n",
    "    r_y=r_y,\n",
    "    comm_budget_experiment=comm_budget_experiment,\n",
    ")"
   ]
  },
  {
   "cell_type": "markdown",
   "id": "0cec55f9",
   "metadata": {},
   "source": [
    "# Preplot"
   ]
  },
  {
   "cell_type": "code",
   "execution_count": 32,
   "id": "3addb2a8",
   "metadata": {},
   "outputs": [],
   "source": [
    "from experiment import preplot_algorithms"
   ]
  },
  {
   "cell_type": "code",
   "execution_count": 33,
   "id": "ce856fb9",
   "metadata": {},
   "outputs": [],
   "source": [
    "#labels = ['EGD-GT', 'EGD-CON', 'Sliding', 'Alg.1']\n",
    "labels = ['EGD-GT', 'EGD-CON', 'Sliding', 'Alg.2']"
   ]
  },
  {
   "cell_type": "code",
   "execution_count": 34,
   "id": "682959f1",
   "metadata": {},
   "outputs": [
    {
     "data": {
      "image/png": "[encoded data removed]",
      "text/plain": [
       "<Figure size 1200x600 with 2 Axes>"
      ]
     },
     "metadata": {},
     "output_type": "display_data"
    }
   ],
   "source": [
    "preplot_algorithms(\n",
    "    topology=\"cycle\",\n",
    "    num_nodes=num_nodes,\n",
    "    data=datasets[0],\n",
    "    labels=labels,\n",
    "    #runners=[extragrad, extragrad_con, sliding, vi_papc],\n",
    "    runners=[extragrad, extragrad_con, sliding, vi_adom],\n",
    "    dist_to_opt_type=\"argument\",\n",
    ")"
   ]
  },
  {
   "cell_type": "markdown",
   "id": "c385082d",
   "metadata": {},
   "source": [
    "# Save"
   ]
  },
  {
   "cell_type": "code",
   "execution_count": null,
   "id": "114cb40c",
   "metadata": {},
   "outputs": [],
   "source": [
    "from experiment import save_algorithms"
   ]
  },
  {
   "cell_type": "code",
   "execution_count": null,
   "id": "7eacd251",
   "metadata": {},
   "outputs": [],
   "source": [
    "#method_names = ['extragrad', 'extragrad_con', 'sliding', 'vi_papc']\n",
    "method_names = ['extragrad', 'extragrad_con', 'sliding', 'vi_adom']"
   ]
  },
  {
   "cell_type": "code",
   "execution_count": null,
   "id": "c690d8f7",
   "metadata": {},
   "outputs": [],
   "source": [
    "save_algorithms(\n",
    "    topology=graph,\n",
    "    num_nodes=num_nodes,\n",
    "    data=datasets[0],\n",
    "    #methods=[extragrad, extragrad_con, sliding, vi_papc],\n",
    "    methods=[extragrad, extragrad_con, sliding, vi_adom],\n",
    "    method_names=[f\"{method_name}.pkl\" for method_name in method_names],\n",
    "    z_true=z_true,\n",
    "    experiment_type=\"real\",\n",
    ")"
   ]
  },
  {
   "cell_type": "markdown",
   "id": "5653d6d2",
   "metadata": {},
   "source": [
    "# Plot"
   ]
  },
  {
   "cell_type": "code",
   "execution_count": null,
   "id": "28c0bb2c",
   "metadata": {},
   "outputs": [],
   "source": [
    "from experiment import plot_algorithms"
   ]
  },
  {
   "cell_type": "code",
   "execution_count": null,
   "id": "86527160",
   "metadata": {},
   "outputs": [],
   "source": [
    "plot_algorithms(\n",
    "    topology=graph,\n",
    "    num_nodes=num_nodes,\n",
    "    data=datasets[0],\n",
    "    labels=labels,\n",
    "    method_names=method_names,\n",
    "    comm_budget_experiment=comm_budget_experiment,\n",
    ")"
   ]
  },
  {
   "cell_type": "markdown",
   "id": "7983b189",
   "metadata": {},
   "source": [
    "# Experiment"
   ]
  },
  {
   "cell_type": "code",
   "execution_count": null,
   "id": "9f715bb3",
   "metadata": {},
   "outputs": [],
   "source": [
    "from experiment import run_experiment"
   ]
  },
  {
   "cell_type": "code",
   "execution_count": null,
   "id": "bde5a975",
   "metadata": {},
   "outputs": [],
   "source": [
    "from typing import Tuple\n",
    "\n",
    "def get_A_b(data: str) -> Tuple[np.ndarray, np.ndarray]:\n",
    "    A, b = fetch_libsvm(data)\n",
    "    if sp.sparse.issparse(A):\n",
    "        A = A.toarray()\n",
    "    \n",
    "    return A, b"
   ]
  },
  {
   "cell_type": "code",
   "execution_count": null,
   "id": "4b539694",
   "metadata": {},
   "outputs": [],
   "source": [
    "methods = [\"extragrad\", \"extragrad_con\", \"sliding\", \"vi_papc\"]"
   ]
  },
  {
   "cell_type": "code",
   "execution_count": null,
   "id": "2ca278a6",
   "metadata": {},
   "outputs": [],
   "source": [
    "topologies = [\"ring\"]#[\"star\", \"grid\", \"ring\"]"
   ]
  },
  {
   "cell_type": "code",
   "execution_count": null,
   "id": "1e4c510b",
   "metadata": {},
   "outputs": [],
   "source": [
    "run_experiment(\n",
    "    methods=methods,\n",
    "    topologies=topologies,\n",
    "    datasets=datasets,\n",
    "    adj_mat=adj_mat,\n",
    "    gos_mat=gos_mat,\n",
    "    num_nodes=num_nodes,\n",
    "    labels=labels,\n",
    "    regcoef_x=regcoef_x,\n",
    "    regcoef_y=regcoef_y,\n",
    "    r_x=r_x,\n",
    "    r_y=r_y,\n",
    "    eps=eps,\n",
    "    num_iter_solution=num_iter_solution,\n",
    "    max_time_solution=max_time_solution,\n",
    "    tolerance_solution=tolerance_solution,\n",
    "    comm_budget_experiment=comm_budget_experiment,\n",
    "    experiment_type=\"real\",\n",
    "    get_A_b=get_A_b,\n",
    ")"
   ]
  },
  {
   "cell_type": "markdown",
   "id": "d6d5808d",
   "metadata": {},
   "source": [
    "# Optimal Parameter Search"
   ]
  },
  {
   "cell_type": "code",
   "execution_count": null,
   "id": "daa279dd",
   "metadata": {},
   "outputs": [],
   "source": [
    "from experiment import run_parameter_search"
   ]
  },
  {
   "cell_type": "code",
   "execution_count": null,
   "id": "c6ddec73",
   "metadata": {},
   "outputs": [],
   "source": [
    "run_parameter_search(\n",
    "    methods=methods,\n",
    "    topologies=topologies,\n",
    "    datasets=datasets,\n",
    "    adj_mat=adj_mat,\n",
    "    gos_mat=gos_mat,\n",
    "    num_nodes=num_nodes,\n",
    "    labels=labels,\n",
    "    regcoef_x=regcoef_x,\n",
    "    regcoef_y=regcoef_y,\n",
    "    r_x=r_x,\n",
    "    r_y=r_y,\n",
    "    eps=eps,\n",
    "    comm_budget_experiment=comm_budget_experiment,\n",
    "    experiment_type=\"real\",\n",
    "    get_A_b=get_A_b,\n",
    "    stepsize_factors=[3.0, 0.1, 0.01, 0.001]\n",
    ")"
   ]
  }
 ],
 "metadata": {
  "kernelspec": {
   "display_name": "Python 3 (ipykernel)",
   "language": "python",
   "name": "python3"
  },
  "language_info": {
   "codemirror_mode": {
    "name": "ipython",
    "version": 3
   },
   "file_extension": ".py",
   "mimetype": "text/x-python",
   "name": "python",
   "nbconvert_exporter": "python",
   "pygments_lexer": "ipython3",
   "version": "3.10.4"
  }
 },
 "nbformat": 4,
 "nbformat_minor": 5
}
