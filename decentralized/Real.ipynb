{
 "cells": [
  {
   "cell_type": "markdown",
   "id": "6acb16d6",
   "metadata": {},
   "source": [
    "# Experiment parameters"
   ]
  },
  {
   "cell_type": "code",
   "execution_count": 1,
   "id": "51323a57",
   "metadata": {},
   "outputs": [],
   "source": [
    "import sys\n",
    "sys.path.append(\"../\")\n",
    "import numpy as np\n",
    "import scipy as sp\n",
    "from utils import (\n",
    "    grid_adj_mat,\n",
    "    grid_gos_mat,\n",
    "    ring_adj_mat,\n",
    "    ring_gos_mat,\n",
    "    star_adj_mat,\n",
    "    star_gos_mat,\n",
    ")"
   ]
  },
  {
   "cell_type": "code",
   "execution_count": 2,
   "id": "25ac62a9",
   "metadata": {},
   "outputs": [],
   "source": [
    "datasets = [\"fourclass\"] #[a7a\", \"a9a\", \"w7a\", \"w8a\", \"phishing\"]\n",
    "# max number of iterations for finding saddle with extragradient\n",
    "num_iter_solution = 500000\n",
    "\n",
    "# max time for finding saddle with extragradient\n",
    "max_time_solution = 3600\n",
    "# tolerance of solution obtained with extragradient\n",
    "tolerance_solution = 1e-10\n",
    "# required accuracy of sliding\n",
    "eps = 1e-10\n",
    "seed = 30"
   ]
  },
  {
   "cell_type": "code",
   "execution_count": 3,
   "id": "5d2cefcf",
   "metadata": {},
   "outputs": [],
   "source": [
    "# number of nodes\n",
    "num_nodes = 25\n",
    "# for grid graph\n",
    "width = int(np.sqrt(num_nodes))  \n",
    "regcoef_x = 2.0\n",
    "regcoef_y = 2.0\n",
    "r_x = 5.0\n",
    "r_y = 0.0\n",
    "comm_budget_experiment = 1000"
   ]
  },
  {
   "cell_type": "code",
   "execution_count": 4,
   "id": "cb8a1d8d",
   "metadata": {},
   "outputs": [],
   "source": [
    "from decentralized.network import Network, NetworkConfigManager"
   ]
  },
  {
   "cell_type": "code",
   "execution_count": 5,
   "id": "109f2253",
   "metadata": {},
   "outputs": [
    {
     "name": "stderr",
     "output_type": "stream",
     "text": [
      "<class 'networkx.utils.decorators.argmap'> compilation 12:4: FutureWarning: laplacian_matrix will return a scipy.sparse array instead of a matrix in Networkx 3.0.\n",
      "/home/michael/Documents/DistributedOpt/opt_distr_stoch_vi/decentralized/../decentralized/network/network.py:138: FutureWarning: adjacency_matrix will return a scipy.sparse array instead of a matrix in Networkx 3.0.\n",
      "  nx.adjacency_matrix(G, nodelist=self.nodelist).toarray()\n"
     ]
    }
   ],
   "source": [
    "network = Network(\n",
    "    comm_budget_experiment,\n",
    "    num_nodes,\n",
    "    \"mix_mat\",\n",
    "    NetworkConfigManager(\"experiment/configs/network.yaml\"),\n",
    ")"
   ]
  },
  {
   "cell_type": "markdown",
   "id": "8665c807",
   "metadata": {},
   "source": [
    "# Dataset"
   ]
  },
  {
   "cell_type": "code",
   "execution_count": 6,
   "id": "5a989ba8",
   "metadata": {},
   "outputs": [],
   "source": [
    "from libsvmdata import fetch_libsvm"
   ]
  },
  {
   "cell_type": "code",
   "execution_count": 7,
   "id": "cb5181d9",
   "metadata": {},
   "outputs": [],
   "source": [
    "A, b = fetch_libsvm(datasets[0])\n",
    "if sp.sparse.issparse(A):\n",
    "    A = A.toarray()"
   ]
  },
  {
   "cell_type": "code",
   "execution_count": 8,
   "id": "3df448cc",
   "metadata": {},
   "outputs": [
    {
     "data": {
      "text/plain": [
       "(862, 2)"
      ]
     },
     "execution_count": 8,
     "metadata": {},
     "output_type": "execute_result"
    }
   ],
   "source": [
    "A.shape"
   ]
  },
  {
   "cell_type": "code",
   "execution_count": 9,
   "id": "f5089a0a",
   "metadata": {},
   "outputs": [],
   "source": [
    "from decentralized.oracles import ArrayPair"
   ]
  },
  {
   "cell_type": "code",
   "execution_count": 10,
   "id": "13af6a09",
   "metadata": {},
   "outputs": [],
   "source": [
    "z_0 = ArrayPair.zeros(A.shape[1])"
   ]
  },
  {
   "cell_type": "markdown",
   "id": "24863318",
   "metadata": {},
   "source": [
    "# Oracles"
   ]
  },
  {
   "cell_type": "code",
   "execution_count": 11,
   "id": "56cae611",
   "metadata": {},
   "outputs": [],
   "source": [
    "from utils import get_oracles"
   ]
  },
  {
   "cell_type": "code",
   "execution_count": 12,
   "id": "e888949b",
   "metadata": {},
   "outputs": [
    {
     "name": "stdout",
     "output_type": "stream",
     "text": [
      "L = 52094.191, delta = 12925.644, mu = 2.000\n"
     ]
    }
   ],
   "source": [
    "oracles, oracle_mean, L, delta, mu, A_grad, b_grad = get_oracles(\n",
    "    A,\n",
    "    b,\n",
    "    num_nodes,\n",
    "    regcoef_x,\n",
    "    regcoef_y,\n",
    "    r_x,\n",
    "    r_y,\n",
    ")"
   ]
  },
  {
   "cell_type": "markdown",
   "id": "1e144c2e",
   "metadata": {},
   "source": [
    "# Run"
   ]
  },
  {
   "cell_type": "markdown",
   "id": "c8bec360",
   "metadata": {},
   "source": [
    "## Solving linear regression"
   ]
  },
  {
   "cell_type": "code",
   "execution_count": 13,
   "id": "bb39f12f",
   "metadata": {},
   "outputs": [],
   "source": [
    "# x = np.linalg.inv(A_theor) @ b_theor\n",
    "# x = np.linalg.solve(A_grad, b_grad)"
   ]
  },
  {
   "cell_type": "code",
   "execution_count": 14,
   "id": "4567a8ad",
   "metadata": {},
   "outputs": [],
   "source": [
    "x = np.linalg.lstsq(A_grad, b_grad, rcond=None)[0]"
   ]
  },
  {
   "cell_type": "code",
   "execution_count": 15,
   "id": "507818fd",
   "metadata": {},
   "outputs": [
    {
     "data": {
      "text/plain": [
       "0.009919192852232668"
      ]
     },
     "execution_count": 15,
     "metadata": {},
     "output_type": "execute_result"
    }
   ],
   "source": [
    "np.linalg.norm(x)"
   ]
  },
  {
   "cell_type": "code",
   "execution_count": 16,
   "id": "e3f36e10",
   "metadata": {},
   "outputs": [],
   "source": [
    "z_true = ArrayPair(x, np.zeros(A.shape[1]))"
   ]
  },
  {
   "cell_type": "code",
   "execution_count": 17,
   "id": "365d42a7",
   "metadata": {},
   "outputs": [
    {
     "data": {
      "text/plain": [
       "array([ 0.00608101, -0.00783656])"
      ]
     },
     "execution_count": 17,
     "metadata": {},
     "output_type": "execute_result"
    }
   ],
   "source": [
    "z_true.x"
   ]
  },
  {
   "cell_type": "code",
   "execution_count": 18,
   "id": "247f5104",
   "metadata": {},
   "outputs": [],
   "source": [
    "g_true = ArrayPair(\n",
    "    np.zeros((num_nodes, z_true.x.shape[0])), np.zeros((num_nodes, z_true.y.shape[0]))\n",
    ")"
   ]
  },
  {
   "cell_type": "markdown",
   "id": "430be482",
   "metadata": {},
   "source": [
    "## Centralized Extragradient"
   ]
  },
  {
   "cell_type": "code",
   "execution_count": null,
   "id": "2c488377",
   "metadata": {},
   "outputs": [],
   "source": [
    "from utils import solve_with_extragradient_real_data"
   ]
  },
  {
   "cell_type": "code",
   "execution_count": null,
   "id": "ce25abcc",
   "metadata": {},
   "outputs": [],
   "source": [
    "z_true = solve_with_extragradient_real_data(\n",
    "    A=A,\n",
    "    b=b,\n",
    "    regcoef_x=regcoef_x,\n",
    "    regcoef_y=regcoef_y,\n",
    "    r_x=r_x,\n",
    "    r_y=r_y,\n",
    "    num_iter=num_iter_solution,\n",
    "    max_time=max_time_solution,\n",
    "    tolerance=tolerance_solution,\n",
    ")"
   ]
  },
  {
   "cell_type": "code",
   "execution_count": null,
   "id": "8cee5ae1",
   "metadata": {},
   "outputs": [],
   "source": [
    "z_true.x"
   ]
  },
  {
   "cell_type": "markdown",
   "id": "1ca5438a",
   "metadata": {},
   "source": [
    "## Decentralized Extragradient method"
   ]
  },
  {
   "cell_type": "code",
   "execution_count": 19,
   "id": "b58987f0",
   "metadata": {},
   "outputs": [],
   "source": [
    "from experiment import run_extragrad_gt"
   ]
  },
  {
   "cell_type": "code",
   "execution_count": 20,
   "id": "9568f204",
   "metadata": {},
   "outputs": [
    {
     "name": "stdout",
     "output_type": "stream",
     "text": [
      "Running decentralized extragradient...\n",
      "argument_primal_distance_to_consensus, argument_primal_distance_to_opt, gradient_primal_distance_to_opt can be accessed at corresponding logger class fields.\n"
     ]
    }
   ],
   "source": [
    "extragrad = run_extragrad_gt(\n",
    "    oracles=oracles,\n",
    "    L=L,\n",
    "    mu=mu,\n",
    "    z_0=z_0,\n",
    "    z_true=z_true,\n",
    "    g_true=g_true,\n",
    "    network=network,\n",
    "    r_x=r_x,\n",
    "    r_y=r_y,\n",
    "    comm_budget_experiment=comm_budget_experiment,\n",
    ")"
   ]
  },
  {
   "cell_type": "markdown",
   "id": "b08359b5",
   "metadata": {},
   "source": [
    "## Decentralized Extragradient method with consensus subroutine"
   ]
  },
  {
   "cell_type": "code",
   "execution_count": 21,
   "id": "2b6fb8c0",
   "metadata": {},
   "outputs": [],
   "source": [
    "from experiment import run_extragrad_con"
   ]
  },
  {
   "cell_type": "code",
   "execution_count": 22,
   "id": "8aa3eb59",
   "metadata": {},
   "outputs": [],
   "source": [
    "network.current_state = 0"
   ]
  },
  {
   "cell_type": "code",
   "execution_count": 23,
   "id": "ab342fcd",
   "metadata": {},
   "outputs": [
    {
     "name": "stdout",
     "output_type": "stream",
     "text": [
      "Running decentralized extragradient-con...\n",
      "T_consensus = 235\n",
      "argument_primal_distance_to_consensus, argument_primal_distance_to_opt, gradient_primal_distance_to_opt can be accessed at corresponding logger class fields.\n"
     ]
    }
   ],
   "source": [
    "extragrad_con = run_extragrad_con(\n",
    "    oracles=oracles,\n",
    "    L=L,\n",
    "    mu=mu,\n",
    "    z_0=z_0,\n",
    "    z_true=z_true,\n",
    "    g_true=g_true,\n",
    "    network=network,\n",
    "    r_x=r_x,\n",
    "    r_y=r_y,\n",
    "    eps=eps,\n",
    "    comm_budget_experiment=comm_budget_experiment,\n",
    ")"
   ]
  },
  {
   "cell_type": "markdown",
   "id": "a190f353",
   "metadata": {},
   "source": [
    "## Decentralized gradient sliding"
   ]
  },
  {
   "cell_type": "code",
   "execution_count": 24,
   "id": "e5f5f591",
   "metadata": {},
   "outputs": [],
   "source": [
    "from experiment import run_sliding"
   ]
  },
  {
   "cell_type": "code",
   "execution_count": 25,
   "id": "e0de72f4",
   "metadata": {},
   "outputs": [],
   "source": [
    "network.current_state = 0"
   ]
  },
  {
   "cell_type": "code",
   "execution_count": 26,
   "id": "12f59474",
   "metadata": {},
   "outputs": [
    {
     "name": "stdout",
     "output_type": "stream",
     "text": [
      "Running decentralized sliding...\n",
      "H_0 = 364, H_1 = 353, T_subproblem = 8\n",
      "argument_primal_distance_to_consensus, argument_primal_distance_to_opt, gradient_primal_distance_to_opt can be accessed at corresponding logger class fields.\n"
     ]
    }
   ],
   "source": [
    "sliding = run_sliding(\n",
    "    oracles=oracles,\n",
    "    L=L,\n",
    "    delta=delta,\n",
    "    mu=mu,\n",
    "    z_0=z_0,\n",
    "    z_true=z_true,\n",
    "    g_true=g_true,\n",
    "    network=network,\n",
    "    r_x=r_x,\n",
    "    r_y=r_y,\n",
    "    eps=eps,\n",
    "    comm_budget_experiment=comm_budget_experiment,\n",
    ")"
   ]
  },
  {
   "cell_type": "markdown",
   "id": "e4a20c36",
   "metadata": {},
   "source": [
    "## Decentralized Algorithm 1"
   ]
  },
  {
   "cell_type": "code",
   "execution_count": null,
   "id": "ddaf16e4",
   "metadata": {},
   "outputs": [],
   "source": [
    "from experiment import run_vi_papc"
   ]
  },
  {
   "cell_type": "code",
   "execution_count": null,
   "id": "f3bff7e9",
   "metadata": {},
   "outputs": [],
   "source": [
    "network.current_state = 0\n",
    "network.matrix_type = \"gos_mat\""
   ]
  },
  {
   "cell_type": "code",
   "execution_count": null,
   "id": "9fd30354",
   "metadata": {},
   "outputs": [],
   "source": [
    "vi_papc = run_vi_papc(\n",
    "    num_nodes=num_nodes,\n",
    "    oracles=oracles,\n",
    "    L=L,\n",
    "    mu=mu,\n",
    "    z_0=z_0,\n",
    "    z_true=z_true,\n",
    "    g_true=g_true,\n",
    "    network=network,\n",
    "    r_x=r_x,\n",
    "    r_y=r_y,\n",
    "    comm_budget_experiment=comm_budget_experiment,\n",
    ")"
   ]
  },
  {
   "cell_type": "markdown",
   "id": "69dcb5bd",
   "metadata": {},
   "source": [
    "## Decentralized Alogorithm 2"
   ]
  },
  {
   "cell_type": "code",
   "execution_count": 27,
   "id": "b806f5d8",
   "metadata": {},
   "outputs": [],
   "source": [
    "from experiment import run_vi_adom"
   ]
  },
  {
   "cell_type": "code",
   "execution_count": 28,
   "id": "afda7eec",
   "metadata": {},
   "outputs": [],
   "source": [
    "network.current_state = 0\n",
    "network.matrix_type = \"gos_mat\""
   ]
  },
  {
   "cell_type": "code",
   "execution_count": 29,
   "id": "fae1cb2e",
   "metadata": {},
   "outputs": [],
   "source": [
    "batch_size = len(oracles)\n",
    "L_avg = L"
   ]
  },
  {
   "cell_type": "code",
   "execution_count": 30,
   "id": "da8aed1b",
   "metadata": {},
   "outputs": [],
   "source": [
    "x_0 = ArrayPair.zeros(A.shape[1])\n",
    "y_0 = ArrayPair.zeros(A.shape[1])        "
   ]
  },
  {
   "cell_type": "code",
   "execution_count": 31,
   "id": "572214f3",
   "metadata": {},
   "outputs": [
    {
     "name": "stdout",
     "output_type": "stream",
     "text": [
      "Running decentralized VI ADOM...\n",
      "argument_primal_distance_to_consensus, argument_primal_distance_to_opt, gradient_primal_distance_to_opt can be accessed at corresponding logger class fields.\n"
     ]
    }
   ],
   "source": [
    "vi_adom = run_vi_adom(\n",
    "    num_nodes=num_nodes,\n",
    "    oracles=oracles,\n",
    "    b=batch_size,\n",
    "    L=L,\n",
    "    L_avg=L_avg,\n",
    "    mu=mu,\n",
    "    x_0=x_0,\n",
    "    y_0=y_0,\n",
    "    z_0=z_0,\n",
    "    z_true=z_true,\n",
    "    g_true=g_true,\n",
    "    network=network,\n",
    "    r_x=r_x,\n",
    "    r_y=r_y,\n",
    "    comm_budget_experiment=comm_budget_experiment,\n",
    ")"
   ]
  },
  {
   "cell_type": "markdown",
   "id": "0cec55f9",
   "metadata": {},
   "source": [
    "# Preplot"
   ]
  },
  {
   "cell_type": "code",
   "execution_count": 32,
   "id": "3addb2a8",
   "metadata": {},
   "outputs": [],
   "source": [
    "from experiment import preplot_algorithms"
   ]
  },
  {
   "cell_type": "code",
   "execution_count": 33,
   "id": "ce856fb9",
   "metadata": {},
   "outputs": [],
   "source": [
    "#labels = ['EGD-GT', 'EGD-CON', 'Sliding', 'Alg.1']\n",
    "labels = ['EGD-GT', 'EGD-CON', 'Sliding', 'Alg.2']"
   ]
  },
  {
   "cell_type": "code",
   "execution_count": 34,
   "id": "682959f1",
   "metadata": {},
   "outputs": [
    {
     "data": {
      "image/png": "[encoded data removed]",
      "text/plain": [
       "<Figure size 1200x600 with 2 Axes>"
      ]
     },
     "metadata": {},
     "output_type": "display_data"
    }
   ],
   "source": [
    "preplot_algorithms(\n",
    "    topology=\"cycle\",\n",
    "    num_nodes=num_nodes,\n",
    "    data=datasets[0],\n",
    "    labels=labels,\n",
    "    #runners=[extragrad, extragrad_con, sliding, vi_papc],\n",
    "    runners=[extragrad, extragrad_con, sliding, vi_adom],\n",
    "    dist_to_opt_type=\"argument\",\n",
    ")"
   ]
  },
  {
   "cell_type": "markdown",
   "id": "c385082d",
   "metadata": {},
   "source": [
    "# Save"
   ]
  },
  {
   "cell_type": "code",
   "execution_count": null,
   "id": "114cb40c",
   "metadata": {},
   "outputs": [],
   "source": [
    "from experiment import save_algorithms"
   ]
  },
  {
   "cell_type": "code",
   "execution_count": null,
   "id": "7eacd251",
   "metadata": {},
   "outputs": [],
   "source": [
    "#method_names = ['extragrad', 'extragrad_con', 'sliding', 'vi_papc']\n",
    "method_names = ['extragrad', 'extragrad_con', 'sliding', 'vi_adom']"
   ]
  },
  {
   "cell_type": "code",
   "execution_count": null,
   "id": "c690d8f7",
   "metadata": {},
   "outputs": [],
   "source": [
    "save_algorithms(\n",
    "    topology=graph,\n",
    "    num_nodes=num_nodes,\n",
    "    data=datasets[0],\n",
    "    #methods=[extragrad, extragrad_con, sliding, vi_papc],\n",
    "    methods=[extragrad, extragrad_con, sliding, vi_adom],\n",
    "    method_names=[f\"{method_name}.pkl\" for method_name in method_names],\n",
    "    z_true=z_true,\n",
    "    experiment_type=\"real\",\n",
    ")"
   ]
  },
  {
   "cell_type": "markdown",
   "id": "5653d6d2",
   "metadata": {},
   "source": [
    "# Plot"
   ]
  },
  {
   "cell_type": "code",
   "execution_count": null,
   "id": "28c0bb2c",
   "metadata": {},
   "outputs": [],
   "source": [
    "from experiment import plot_algorithms"
   ]
  },
  {
   "cell_type": "code",
   "execution_count": null,
   "id": "86527160",
   "metadata": {},
   "outputs": [],
   "source": [
    "plot_algorithms(\n",
    "    topology=graph,\n",
    "    num_nodes=num_nodes,\n",
    "    data=datasets[0],\n",
    "    labels=labels,\n",
    "    method_names=method_names,\n",
    "    comm_budget_experiment=comm_budget_experiment,\n",
    ")"
   ]
  },
  {
   "cell_type": "markdown",
   "id": "7983b189",
   "metadata": {},
   "source": [
    "# Experiment"
   ]
  },
  {
   "cell_type": "code",
   "execution_count": null,
   "id": "9f715bb3",
   "metadata": {},
   "outputs": [],
   "source": [
    "from experiment import run_experiment"
   ]
  },
  {
   "cell_type": "code",
   "execution_count": null,
   "id": "bde5a975",
   "metadata": {},
   "outputs": [],
   "source": [
    "from typing import Tuple\n",
    "\n",
    "def get_A_b(data: str) -> Tuple[np.ndarray, np.ndarray]:\n",
    "    A, b = fetch_libsvm(data)\n",
    "    if sp.sparse.issparse(A):\n",
    "        A = A.toarray()\n",
    "    \n",
    "    return A, b"
   ]
  },
  {
   "cell_type": "code",
   "execution_count": null,
   "id": "4b539694",
   "metadata": {},
   "outputs": [],
   "source": [
    "methods = [\"extragrad\", \"extragrad_con\", \"sliding\", \"vi_papc\"]"
   ]
  },
  {
   "cell_type": "code",
   "execution_count": null,
   "id": "2ca278a6",
   "metadata": {},
   "outputs": [],
   "source": [
    "topologies = [\"ring\"]#[\"star\", \"grid\", \"ring\"]"
   ]
  },
  {
   "cell_type": "code",
   "execution_count": null,
   "id": "1e4c510b",
   "metadata": {},
   "outputs": [],
   "source": [
    "run_experiment(\n",
    "    methods=methods,\n",
    "    topologies=topologies,\n",
    "    datasets=datasets,\n",
    "    adj_mat=adj_mat,\n",
    "    gos_mat=gos_mat,\n",
    "    num_nodes=num_nodes,\n",
    "    labels=labels,\n",
    "    regcoef_x=regcoef_x,\n",
    "    regcoef_y=regcoef_y,\n",
    "    r_x=r_x,\n",
    "    r_y=r_y,\n",
    "    eps=eps,\n",
    "    num_iter_solution=num_iter_solution,\n",
    "    max_time_solution=max_time_solution,\n",
    "    tolerance_solution=tolerance_solution,\n",
    "    comm_budget_experiment=comm_budget_experiment,\n",
    "    experiment_type=\"real\",\n",
    "    get_A_b=get_A_b,\n",
    ")"
   ]
  },
  {
   "cell_type": "markdown",
   "id": "d6d5808d",
   "metadata": {},
   "source": [
    "# Optimal Parameter Search"
   ]
  },
  {
   "cell_type": "code",
   "execution_count": null,
   "id": "daa279dd",
   "metadata": {},
   "outputs": [],
   "source": [
    "from experiment import run_parameter_search"
   ]
  },
  {
   "cell_type": "code",
   "execution_count": null,
   "id": "c6ddec73",
   "metadata": {},
   "outputs": [],
   "source": [
    "run_parameter_search(\n",
    "    methods=methods,\n",
    "    topologies=topologies,\n",
    "    datasets=datasets,\n",
    "    adj_mat=adj_mat,\n",
    "    gos_mat=gos_mat,\n",
    "    num_nodes=num_nodes,\n",
    "    labels=labels,\n",
    "    regcoef_x=regcoef_x,\n",
    "    regcoef_y=regcoef_y,\n",
    "    r_x=r_x,\n",
    "    r_y=r_y,\n",
    "    eps=eps,\n",
    "    comm_budget_experiment=comm_budget_experiment,\n",
    "    experiment_type=\"real\",\n",
    "    get_A_b=get_A_b,\n",
    "    stepsize_factors=[3.0, 0.1, 0.01, 0.001]\n",
    ")"
   ]
  }
 ],
 "metadata": {
  "kernelspec": {
   "display_name": "Python 3 (ipykernel)",
   "language": "python",
   "name": "python3"
  },
  "language_info": {
   "codemirror_mode": {
    "name": "ipython",
    "version": 3
   },
   "file_extension": ".py",
   "mimetype": "text/x-python",
   "name": "python",
   "nbconvert_exporter": "python",
   "pygments_lexer": "ipython3",
   "version": "3.10.4"
  }
 },
 "nbformat": 4,
 "nbformat_minor": 5
}
