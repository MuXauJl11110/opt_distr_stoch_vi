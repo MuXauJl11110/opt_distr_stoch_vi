{
 "cells": [
  {
   "cell_type": "code",
   "execution_count": 1,
   "id": "04ad4aa9",
   "metadata": {},
   "outputs": [
    {
     "ename": "ModuleNotFoundError",
     "evalue": "No module named 'decentralized'",
     "output_type": "error",
     "traceback": [
      "\u001b[0;31m---------------------------------------------------------------------------\u001b[0m",
      "\u001b[0;31mModuleNotFoundError\u001b[0m                       Traceback (most recent call last)",
      "Input \u001b[0;32mIn [1]\u001b[0m, in \u001b[0;36m<module>\u001b[0;34m\u001b[0m\n\u001b[1;32m      1\u001b[0m \u001b[38;5;28;01mimport\u001b[39;00m \u001b[38;5;21;01mnumpy\u001b[39;00m \u001b[38;5;28;01mas\u001b[39;00m \u001b[38;5;21;01mnp\u001b[39;00m\n\u001b[1;32m      2\u001b[0m \u001b[38;5;28;01mimport\u001b[39;00m \u001b[38;5;21;01mscipy\u001b[39;00m \u001b[38;5;28;01mas\u001b[39;00m \u001b[38;5;21;01msp\u001b[39;00m\n\u001b[0;32m----> 3\u001b[0m \u001b[38;5;28;01mfrom\u001b[39;00m \u001b[38;5;21;01mutils\u001b[39;00m \u001b[38;5;28;01mimport\u001b[39;00m (\n\u001b[1;32m      4\u001b[0m     grid_adj_mat,\n\u001b[1;32m      5\u001b[0m     grid_gos_mat,\n\u001b[1;32m      6\u001b[0m     ring_adj_mat,\n\u001b[1;32m      7\u001b[0m     ring_gos_mat,\n\u001b[1;32m      8\u001b[0m     star_adj_mat,\n\u001b[1;32m      9\u001b[0m     star_gos_mat,\n\u001b[1;32m     10\u001b[0m )\n",
      "File \u001b[0;32m~/Documents/DistributedOpt/Experiments/decentralized/utils/__init__.py:1\u001b[0m, in \u001b[0;36m<module>\u001b[0;34m\u001b[0m\n\u001b[0;32m----> 1\u001b[0m \u001b[38;5;28;01mfrom\u001b[39;00m \u001b[38;5;21;01mdecentralized\u001b[39;00m\u001b[38;5;21;01m.\u001b[39;00m\u001b[38;5;21;01mutils\u001b[39;00m\u001b[38;5;21;01m.\u001b[39;00m\u001b[38;5;21;01mcompute_params\u001b[39;00m \u001b[38;5;28;01mimport\u001b[39;00m (\n\u001b[1;32m      2\u001b[0m     compute_lam,\n\u001b[1;32m      3\u001b[0m     compute_lam_2,\n\u001b[1;32m      4\u001b[0m     compute_robust_linear_normed_delta,\n\u001b[1;32m      5\u001b[0m     compute_robust_linear_normed_L,\n\u001b[1;32m      6\u001b[0m     compute_robust_linear_normed_L_delta_mu,\n\u001b[1;32m      7\u001b[0m )\n\u001b[1;32m      8\u001b[0m \u001b[38;5;28;01mfrom\u001b[39;00m \u001b[38;5;21;01mdecentralized\u001b[39;00m\u001b[38;5;21;01m.\u001b[39;00m\u001b[38;5;21;01mutils\u001b[39;00m\u001b[38;5;21;01m.\u001b[39;00m\u001b[38;5;21;01mdata_manager_utils\u001b[39;00m \u001b[38;5;28;01mimport\u001b[39;00m (\n\u001b[1;32m      9\u001b[0m     get_gaussian,\n\u001b[1;32m     10\u001b[0m     load_mnist64,\n\u001b[1;32m     11\u001b[0m     load_mnist784,\n\u001b[1;32m     12\u001b[0m     normalize,\n\u001b[1;32m     13\u001b[0m )\n\u001b[1;32m     14\u001b[0m \u001b[38;5;28;01mfrom\u001b[39;00m \u001b[38;5;21;01mdecentralized\u001b[39;00m\u001b[38;5;21;01m.\u001b[39;00m\u001b[38;5;21;01mutils\u001b[39;00m\u001b[38;5;21;01m.\u001b[39;00m\u001b[38;5;21;01mgenerate_matrices\u001b[39;00m \u001b[38;5;28;01mimport\u001b[39;00m (\n\u001b[1;32m     15\u001b[0m     gen_matrices_decentralized,\n\u001b[1;32m     16\u001b[0m     grid_adj_mat,\n\u001b[0;32m   (...)\u001b[0m\n\u001b[1;32m     23\u001b[0m     star_gos_mat,\n\u001b[1;32m     24\u001b[0m )\n",
      "\u001b[0;31mModuleNotFoundError\u001b[0m: No module named 'decentralized'"
     ]
    }
   ],
   "source": [
    "import numpy as np\n",
    "import scipy as sp\n",
    "from utils import (\n",
    "    grid_adj_mat,\n",
    "    grid_gos_mat,\n",
    "    ring_adj_mat,\n",
    "    ring_gos_mat,\n",
    "    star_adj_mat,\n",
    "    star_gos_mat,\n",
    ")"
   ]
  },
  {
   "cell_type": "code",
   "execution_count": null,
   "id": "5c5f560a",
   "metadata": {},
   "outputs": [],
   "source": []
  }
 ],
 "metadata": {
  "kernelspec": {
   "display_name": "Python 3",
   "language": "python",
   "name": "python3"
  },
  "language_info": {
   "codemirror_mode": {
    "name": "ipython",
    "version": 3
   },
   "file_extension": ".py",
   "mimetype": "text/x-python",
   "name": "python",
   "nbconvert_exporter": "python",
   "pygments_lexer": "ipython3",
   "version": "3.8.10"
  }
 },
 "nbformat": 4,
 "nbformat_minor": 5
}
