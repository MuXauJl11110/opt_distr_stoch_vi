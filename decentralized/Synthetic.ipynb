{
 "cells": [
  {
   "cell_type": "markdown",
   "id": "6acb16d6",
   "metadata": {},
   "source": [
    "# Experiment parameters"
   ]
  },
  {
   "cell_type": "code",
   "execution_count": 1,
   "id": "edc44c47",
   "metadata": {},
   "outputs": [],
   "source": [
    "import numpy as np\n",
    "from utils import (\n",
    "    grid_adj_mat,\n",
    "    grid_gos_mat,\n",
    "    ring_adj_mat,\n",
    "    ring_gos_mat,\n",
    "    star_adj_mat,\n",
    "    star_gos_mat,\n",
    ")"
   ]
  },
  {
   "cell_type": "code",
   "execution_count": 2,
   "id": "25ac62a9",
   "metadata": {},
   "outputs": [],
   "source": [
    "n_one = 30  # number of rows in each of the matrices held by agents\n",
    "d = 20  # ambient dimension\n",
    "mat_mean = 5.0  # mean of each matrix entry\n",
    "mat_std = 2.0  # std of each matrix entry\n",
    "num_iter_solution = 50000  # max number of iterations for finding saddle with extragradient\n",
    "max_time_solution = 3600  # max time for finding saddle with extragradient\n",
    "tolerance_solution = 1e-10  # tolerance of solution obtained with extragradient\n",
    "eps = 1e-10  # required accuracy of sliding\n",
    "seed = 30"
   ]
  },
  {
   "cell_type": "code",
   "execution_count": 3,
   "id": "5d2cefcf",
   "metadata": {},
   "outputs": [],
   "source": [
    "num_nodes = 25 # number of Nodes\n",
    "width = 5 # for grid graph\n",
    "regcoef_x=2.0\n",
    "regcoef_y=2.0\n",
    "r_x=5.0\n",
    "r_y=0.0 # for linear regression\n",
    "comm_budget_experiment=1000"
   ]
  },
  {
   "cell_type": "code",
   "execution_count": 4,
   "id": "43146777",
   "metadata": {},
   "outputs": [],
   "source": [
    "noises = [100.0]#[0.0001, 0.001, 0.01, 0.1, 1.0, 10.0]\n",
    "adj_mat = {\n",
    "    'star': star_adj_mat(num_nodes), \n",
    "    'grid': grid_adj_mat(width, width),\n",
    "    'ring': ring_adj_mat(num_nodes)\n",
    "}\n",
    "gos_mat = {\n",
    "    'star': star_gos_mat(num_nodes), \n",
    "    'grid': grid_gos_mat(width, width),\n",
    "    'ring': ring_gos_mat(num_nodes)\n",
    "}"
   ]
  },
  {
   "cell_type": "markdown",
   "id": "97c89c27",
   "metadata": {},
   "source": [
    "# Dataset"
   ]
  },
  {
   "cell_type": "code",
   "execution_count": 10,
   "id": "e727f2e3",
   "metadata": {},
   "outputs": [],
   "source": [
    "from utils import gen_matrices_decentralized"
   ]
  },
  {
   "cell_type": "code",
   "execution_count": null,
   "id": "8ab0767a",
   "metadata": {},
   "outputs": [],
   "source": [
    "A, b = gen_matrices_decentralized(\n",
    "    num_matrices=num_nodes,\n",
    "    l=n_one,\n",
    "    d=d,\n",
    "    mean=mat_mean,\n",
    "    std=mat_std,\n",
    "    noise=noises[0],\n",
    "    seed=seed,\n",
    ")"
   ]
  },
  {
   "cell_type": "code",
   "execution_count": null,
   "id": "c0054862",
   "metadata": {},
   "outputs": [],
   "source": [
    "A.shape"
   ]
  },
  {
   "cell_type": "code",
   "execution_count": null,
   "id": "21e25679",
   "metadata": {},
   "outputs": [],
   "source": [
    "from decentralized.oracles import ArrayPair"
   ]
  },
  {
   "cell_type": "code",
   "execution_count": null,
   "id": "13af6a09",
   "metadata": {},
   "outputs": [],
   "source": [
    "z_0 = ArrayPair.zeros(d)"
   ]
  },
  {
   "cell_type": "markdown",
   "id": "24863318",
   "metadata": {},
   "source": [
    "# Oracles"
   ]
  },
  {
   "cell_type": "code",
   "execution_count": null,
   "id": "29d12fd3",
   "metadata": {},
   "outputs": [],
   "source": [
    "from utils import get_oracles"
   ]
  },
  {
   "cell_type": "code",
   "execution_count": null,
   "id": "e888949b",
   "metadata": {},
   "outputs": [],
   "source": [
    "oracles, oracle_mean, L, delta, mu, A_grad, b_grad = get_oracles(\n",
    "    A,\n",
    "    b,\n",
    "    num_nodes,\n",
    "    regcoef_x,\n",
    "    regcoef_y,\n",
    "    r_x,\n",
    "    r_y,\n",
    ")"
   ]
  },
  {
   "cell_type": "markdown",
   "id": "1e144c2e",
   "metadata": {},
   "source": [
    "# Run"
   ]
  },
  {
   "cell_type": "code",
   "execution_count": null,
   "id": "97aa6f13",
   "metadata": {},
   "outputs": [],
   "source": [
    "from utils import metropolis_weights"
   ]
  },
  {
   "cell_type": "code",
   "execution_count": null,
   "id": "6544dd3c",
   "metadata": {},
   "outputs": [],
   "source": [
    "graph = \"ring\"\n",
    "mix_mat = metropolis_weights(adj_mat[graph])\n",
    "W = gos_mat[graph]"
   ]
  },
  {
   "cell_type": "markdown",
   "id": "cb2046d1",
   "metadata": {},
   "source": [
    "## Solving linear regression"
   ]
  },
  {
   "cell_type": "code",
   "execution_count": null,
   "id": "dd2417d8",
   "metadata": {},
   "outputs": [],
   "source": [
    "# x = np.linalg.inv(A_theor) @ b_theor\n",
    "# x = np.linalg.solve(A_grad, b_grad)"
   ]
  },
  {
   "cell_type": "code",
   "execution_count": null,
   "id": "3c0bd985",
   "metadata": {},
   "outputs": [],
   "source": [
    "x = np.linalg.lstsq(A_grad, b_grad, rcond=None)[0]"
   ]
  },
  {
   "cell_type": "code",
   "execution_count": null,
   "id": "dde4c15d",
   "metadata": {},
   "outputs": [],
   "source": [
    "np.linalg.norm(x)"
   ]
  },
  {
   "cell_type": "code",
   "execution_count": null,
   "id": "05254826",
   "metadata": {},
   "outputs": [],
   "source": [
    "z_true = ArrayPair(x, np.zeros(A.shape[1]))"
   ]
  },
  {
   "cell_type": "code",
   "execution_count": null,
   "id": "a88b606d",
   "metadata": {},
   "outputs": [],
   "source": [
    "z_true.x"
   ]
  },
  {
   "cell_type": "code",
   "execution_count": null,
   "id": "9f5bf8cc",
   "metadata": {},
   "outputs": [],
   "source": [
    "g_true = ArrayPair(\n",
    "    np.zeros((num_nodes, z_true.x.shape[0])), np.zeros((num_nodes, z_true.y.shape[0]))\n",
    ")"
   ]
  },
  {
   "cell_type": "markdown",
   "id": "430be482",
   "metadata": {},
   "source": [
    "## Centralized Extragradient"
   ]
  },
  {
   "cell_type": "code",
   "execution_count": null,
   "id": "4a37e38b",
   "metadata": {},
   "outputs": [],
   "source": [
    "from utils import solve_with_extragradient"
   ]
  },
  {
   "cell_type": "code",
   "execution_count": null,
   "id": "b916f5ea",
   "metadata": {},
   "outputs": [],
   "source": [
    "z_true = solve_with_extragradient(\n",
    "    oracle=oracle_mean,\n",
    "    stepsize=1.0 / L,\n",
    "    r_x=r_x,\n",
    "    r_y=r_y,\n",
    "    z_0=z_0,\n",
    "    tolerance=tolerance_solution,\n",
    "    num_iter=num_iter_solution,\n",
    "    max_time=max_time_solution,\n",
    ")"
   ]
  },
  {
   "cell_type": "markdown",
   "id": "1ca5438a",
   "metadata": {},
   "source": [
    "## Decentralized Extragradient method"
   ]
  },
  {
   "cell_type": "code",
   "execution_count": null,
   "id": "9db1d79d",
   "metadata": {},
   "outputs": [],
   "source": [
    "from experiment import run_extragrad_gt"
   ]
  },
  {
   "cell_type": "code",
   "execution_count": null,
   "id": "19692722",
   "metadata": {},
   "outputs": [],
   "source": [
    "extragrad = run_extragrad_gt(\n",
    "    oracles=oracles,\n",
    "    L=L,\n",
    "    mu=mu,\n",
    "    z_0=z_0,\n",
    "    z_true=z_true,\n",
    "    g_true=g_true,\n",
    "    mix_mat=mix_mat,\n",
    "    r_x=r_x,\n",
    "    r_y=r_y,\n",
    "    comm_budget_experiment=comm_budget_experiment,\n",
    ")"
   ]
  },
  {
   "cell_type": "markdown",
   "id": "b08359b5",
   "metadata": {},
   "source": [
    "## Decentralized Extragradient method with consensus subroutine"
   ]
  },
  {
   "cell_type": "code",
   "execution_count": null,
   "id": "7b271bca",
   "metadata": {},
   "outputs": [],
   "source": [
    "from experiment import run_extragrad_con"
   ]
  },
  {
   "cell_type": "code",
   "execution_count": null,
   "id": "ab342fcd",
   "metadata": {},
   "outputs": [],
   "source": [
    "extragrad_con = run_extragrad_con(\n",
    "    oracles=oracles,\n",
    "    L=L,\n",
    "    mu=mu,\n",
    "    z_0=z_0,\n",
    "    z_true=z_true,\n",
    "    g_true=g_true,\n",
    "    mix_mat=mix_mat,\n",
    "    r_x=r_x,\n",
    "    r_y=r_y,\n",
    "    eps=eps,\n",
    "    comm_budget_experiment=comm_budget_experiment,\n",
    ")"
   ]
  },
  {
   "cell_type": "markdown",
   "id": "a190f353",
   "metadata": {},
   "source": [
    "## Decentralized gradient sliding"
   ]
  },
  {
   "cell_type": "code",
   "execution_count": null,
   "id": "27b36a31",
   "metadata": {},
   "outputs": [],
   "source": [
    "from experiment import run_sliding"
   ]
  },
  {
   "cell_type": "code",
   "execution_count": null,
   "id": "12f59474",
   "metadata": {},
   "outputs": [],
   "source": [
    "sliding = run_sliding(\n",
    "    oracles=oracles,\n",
    "    L=L,\n",
    "    delta=delta,\n",
    "    mu=mu,\n",
    "    z_0=z_0,\n",
    "    z_true=z_true,\n",
    "    g_true=g_true,\n",
    "    mix_mat=mix_mat,\n",
    "    r_x=r_x,\n",
    "    r_y=r_y,\n",
    "    eps=eps,\n",
    "    comm_budget_experiment=comm_budget_experiment,\n",
    ")"
   ]
  },
  {
   "cell_type": "markdown",
   "id": "e4a20c36",
   "metadata": {},
   "source": [
    "## Decentralized Algorithm 1"
   ]
  },
  {
   "cell_type": "code",
   "execution_count": null,
   "id": "b7327b44",
   "metadata": {},
   "outputs": [],
   "source": [
    "from experiment import run_vi_papc"
   ]
  },
  {
   "cell_type": "code",
   "execution_count": null,
   "id": "9fd30354",
   "metadata": {},
   "outputs": [],
   "source": [
    "vi_papc = run_vi_papc(\n",
    "    num_nodes=num_nodes,\n",
    "    oracles=oracles,\n",
    "    L=L,\n",
    "    mu=mu,\n",
    "    z_0=z_0,\n",
    "    z_true=z_true,\n",
    "    g_true=g_true,\n",
    "    gos_mat=W,\n",
    "    r_x=r_x,\n",
    "    r_y=r_y,\n",
    "    comm_budget_experiment=comm_budget_experiment,\n",
    ")"
   ]
  },
  {
   "cell_type": "markdown",
   "id": "0cec55f9",
   "metadata": {},
   "source": [
    "# Preplot"
   ]
  },
  {
   "cell_type": "code",
   "execution_count": null,
   "id": "55372fea",
   "metadata": {},
   "outputs": [],
   "source": [
    "from experiment import preplot_algorithms"
   ]
  },
  {
   "cell_type": "code",
   "execution_count": 5,
   "id": "ce856fb9",
   "metadata": {},
   "outputs": [],
   "source": [
    "labels = ['EGD-GT', 'EGD-CON', 'Sliding', 'Alg.1']"
   ]
  },
  {
   "cell_type": "code",
   "execution_count": null,
   "id": "24f57081",
   "metadata": {},
   "outputs": [],
   "source": [
    "preplot_algorithms(\n",
    "    graph=graph,\n",
    "    num_nodes=num_nodes,\n",
    "    data=noises[0],\n",
    "    labels=labels,\n",
    "    methods=[extragrad, extragrad_con, sliding, vi_papc],\n",
    "    dist_to_opt_type=\"argument\",\n",
    ")"
   ]
  },
  {
   "cell_type": "markdown",
   "id": "c385082d",
   "metadata": {},
   "source": [
    "# Save"
   ]
  },
  {
   "cell_type": "code",
   "execution_count": null,
   "id": "114cb40c",
   "metadata": {},
   "outputs": [],
   "source": [
    "from experiment import save_algorithms"
   ]
  },
  {
   "cell_type": "code",
   "execution_count": 6,
   "id": "7eacd251",
   "metadata": {},
   "outputs": [],
   "source": [
    "method_names = ['extragrad', 'extragrad_con', 'sliding', 'vi_papc']"
   ]
  },
  {
   "cell_type": "code",
   "execution_count": null,
   "id": "c0ea0729",
   "metadata": {},
   "outputs": [],
   "source": [
    "save_algorithms(\n",
    "    graph=graph,\n",
    "    num_nodes=num_nodes,\n",
    "    data=noises[0],\n",
    "    methods=[extragrad, extragrad_con, sliding, vi_papc],\n",
    "    method_names=method_names,\n",
    "    z_true=z_true,\n",
    "    experiment_type=\"synthetic\",\n",
    ")"
   ]
  },
  {
   "cell_type": "code",
   "execution_count": null,
   "id": "617099e9",
   "metadata": {},
   "outputs": [],
   "source": [
    "save_algorithms(graph, noises[0], [extragrad, extragrad_con, sliding, algorithm_1])"
   ]
  },
  {
   "cell_type": "markdown",
   "id": "7983b189",
   "metadata": {},
   "source": [
    "# Experiment"
   ]
  },
  {
   "cell_type": "code",
   "execution_count": 7,
   "id": "66ab15f2",
   "metadata": {},
   "outputs": [],
   "source": [
    "from experiment import run_experiment"
   ]
  },
  {
   "cell_type": "code",
   "execution_count": 8,
   "id": "e94465ef",
   "metadata": {},
   "outputs": [],
   "source": [
    "get_A_b = lambda noise: gen_matrices_decentralized(\n",
    "    num_matrices=num_nodes,\n",
    "    l=n_one,\n",
    "    d=d,\n",
    "    mean=mat_mean,\n",
    "    std=mat_std,\n",
    "    noise=noise,\n",
    "    seed=seed,\n",
    ")"
   ]
  },
  {
   "cell_type": "code",
   "execution_count": 11,
   "id": "b5753ed0",
   "metadata": {},
   "outputs": [
    {
     "name": "stdout",
     "output_type": "stream",
     "text": [
      "Dataset: 100.0\n",
      "Graph: ring\n",
      "Running decentralized extragradient...\n",
      "argument_primal_distance_to_consensus, argument_primal_distance_to_opt, gradient_primal_distance_to_opt can be accessed at corresponding logger class fields.\n",
      "Running decentralized extragradient-con...\n",
      "T_consensus = 238\n",
      "argument_primal_distance_to_consensus, argument_primal_distance_to_opt, gradient_primal_distance_to_opt can be accessed at corresponding logger class fields.\n",
      "Running decentralized sliding...\n",
      "H_0 = 370, H_1 = 359, T_subproblem = 7\n",
      "argument_primal_distance_to_consensus, argument_primal_distance_to_opt, gradient_primal_distance_to_opt can be accessed at corresponding logger class fields.\n",
      "Running decentralized VI PAPC...\n",
      "argument_primal_distance_to_consensus, argument_primal_distance_to_opt, gradient_primal_distance_to_opt can be accessed at corresponding logger class fields.\n"
     ]
    },
    {
     "data": {
      "image/png": "[encoded data removed]",
      "text/plain": [
       "<Figure size 864x432 with 2 Axes>"
      ]
     },
     "metadata": {
      "needs_background": "light"
     },
     "output_type": "display_data"
    },
    {
     "name": "stderr",
     "output_type": "stream",
     "text": [
      "/home/michael/Documents/DistributedOpt/Experiments/data_sim/experiment/plotting.py:168: UserWarning: Attempting to set identical left == right == 0 results in singular transformations; automatically expanding.\n",
      "  plt.xlim((0, min_comm))\n"
     ]
    }
   ],
   "source": [
    "run_experiment(\n",
    "    adj_mat=adj_mat,\n",
    "    gos_mat=gos_mat,\n",
    "    num_nodes=num_nodes,\n",
    "    datasets=noises,\n",
    "    labels=labels,\n",
    "    method_names=method_names,\n",
    "    regcoef_x=regcoef_x,\n",
    "    regcoef_y=regcoef_y,\n",
    "    r_x=r_x,\n",
    "    r_y=r_y,\n",
    "    eps=eps,\n",
    "    num_iter_solution=num_iter_solution,\n",
    "    max_time_solution=max_time_solution,\n",
    "    tolerance_solution=tolerance_solution,\n",
    "    comm_budget_experiment=comm_budget_experiment,\n",
    "    experiment_type=\"synthetic\",\n",
    "    get_A_b=get_A_b,\n",
    ")"
   ]
  },
  {
   "cell_type": "markdown",
   "id": "59508c86",
   "metadata": {},
   "source": [
    "# Optimal parameters search"
   ]
  },
  {
   "cell_type": "code",
   "execution_count": null,
   "id": "eefa50d9",
   "metadata": {},
   "outputs": [],
   "source": [
    "graph = 'grid'\n",
    "mix_mat = metropolis_weights(adj_mat[graph])\n",
    "W = gos_mat[graph]"
   ]
  },
  {
   "cell_type": "code",
   "execution_count": null,
   "id": "e090ad8b",
   "metadata": {},
   "outputs": [],
   "source": [
    "def PS_run_algorithm_1(\n",
    "    num_nodes: int,\n",
    "    oracles: List[ArrayPair],\n",
    "    L: float,\n",
    "    mu: float,\n",
    "    theta_factor: float,\n",
    "    eta_factor: float,\n",
    "    alpha_factor: float,\n",
    "    z_0: ArrayPair,\n",
    "    z_true: ArrayPair,\n",
    "    gos_mat: np.ndarray,\n",
    "    r_x: float,\n",
    "    r_y: float,\n",
    "    comm_budget_experiment: int,\n",
    "):\n",
    "    print(\n",
    "        f\"Running decentralized Algorithm 1 with theta: {theta_factor}, eta: {eta_factor}, alpha: {alpha_factor}...\"\n",
    "    )\n",
    "    algorithm_1 = DecentralizedVIPAPCRunner(\n",
    "        oracles=oracles,\n",
    "        L=L,\n",
    "        mu=mu,\n",
    "        gos_mat=gos_mat,\n",
    "        r_x=r_x,\n",
    "        r_y=r_y,\n",
    "        logger=LoggerDecentralized(z_true=z_true, g_true=g_true),\n",
    "    )\n",
    "\n",
    "    algorithm_1.compute_method_params()\n",
    "    algorithm_1.theta *= theta_factor\n",
    "    algorithm_1.eta *= eta_factor\n",
    "    algorithm_1.alpha *= alpha_factor\n",
    "\n",
    "    z_0_list = [z_0] * num_nodes\n",
    "    y_0_list = [z_0] * num_nodes\n",
    "    algorithm_1.create_method(z_0_list, y_0_list)\n",
    "    algorithm_1.logger.comm_per_iter = 1\n",
    "    algorithm_1.run(max_iter=comm_budget_experiment // algorithm_1.logger.comm_per_iter)\n",
    "\n",
    "    return algorithm_1"
   ]
  },
  {
   "cell_type": "code",
   "execution_count": null,
   "id": "7fbd9007",
   "metadata": {},
   "outputs": [],
   "source": [
    "theta_factors = [5.0, 1.0, 0.001]\n",
    "eta_factors = [5.0, 1.0, 0.001]\n",
    "alpha_factors = [5.0, 1.0, 0.001]"
   ]
  },
  {
   "cell_type": "code",
   "execution_count": null,
   "id": "87169eb8",
   "metadata": {},
   "outputs": [],
   "source": [
    "from tqdm import tqdm"
   ]
  },
  {
   "cell_type": "code",
   "execution_count": null,
   "id": "8abda884",
   "metadata": {},
   "outputs": [],
   "source": [
    "PS_labels = []\n",
    "PS_methods = []\n",
    "for theta_factor in tqdm(theta_factors, desc=\"Thetas\"):\n",
    "    for eta_factor in tqdm(eta_factors, desc=\"Etas\"):\n",
    "        for alpha_factor in tqdm(alpha_factors, desc=\"Alphas\"):\n",
    "            PS_labels.append(f\"Theta: {theta_factor}, Eta: {eta_factor}, Alpha: {alpha_factor}\")\n",
    "            PS_methods.append(\n",
    "                PS_run_algorithm_1(\n",
    "                    num_nodes,\n",
    "                    oracles,\n",
    "                    L,\n",
    "                    mu,\n",
    "                    theta_factor,\n",
    "                    eta_factor,\n",
    "                    alpha_factor,\n",
    "                    z_0,\n",
    "                    z_true,\n",
    "                    W,\n",
    "                    r_x,\n",
    "                    r_y,\n",
    "                    comm_budget_experiment,\n",
    "                )\n",
    "            )"
   ]
  },
  {
   "cell_type": "code",
   "execution_count": null,
   "id": "d897b3c5",
   "metadata": {},
   "outputs": [],
   "source": [
    "batch_size = 3\n",
    "cnt = 9\n",
    "while cnt < len(PS_methods):\n",
    "    plot_algorithms(\n",
    "        graph,\n",
    "        noises[0],\n",
    "        PS_labels[cnt : min(cnt + batch_size, len(PS_labels))],\n",
    "        PS_methods[cnt : min(cnt + batch_size, len(PS_methods))],\n",
    "    )\n",
    "    cnt += batch_size"
   ]
  },
  {
   "cell_type": "code",
   "execution_count": null,
   "id": "a4cc6f13",
   "metadata": {},
   "outputs": [],
   "source": [
    "minimums = [min(method.logger.gradient_primal_distance_to_opt) for method in PS_methods]\n",
    "maximums = [max(method.logger.gradient_primal_distance_to_opt) for method in PS_methods]"
   ]
  },
  {
   "cell_type": "code",
   "execution_count": null,
   "id": "4ffa1777",
   "metadata": {},
   "outputs": [],
   "source": [
    "min_value = min(minimums)\n",
    "max_value = max(maximums)\n",
    "min_value, max_value"
   ]
  },
  {
   "cell_type": "code",
   "execution_count": null,
   "id": "2cf5bc3d",
   "metadata": {},
   "outputs": [],
   "source": [
    "minimums.index(min_value)"
   ]
  },
  {
   "cell_type": "code",
   "execution_count": null,
   "id": "5837f5eb",
   "metadata": {},
   "outputs": [],
   "source": [
    "plot_algorithms(\n",
    "    graph,\n",
    "    noises[0],\n",
    "    [PS_labels[minimums.index(min_value)]],\n",
    "    [PS_methods[minimums.index(min_value)]],\n",
    "    \"gradient\"\n",
    ")"
   ]
  }
 ],
 "metadata": {
  "kernelspec": {
   "display_name": "Python 3",
   "language": "python",
   "name": "python3"
  },
  "language_info": {
   "codemirror_mode": {
    "name": "ipython",
    "version": 3
   },
   "file_extension": ".py",
   "mimetype": "text/x-python",
   "name": "python",
   "nbconvert_exporter": "python",
   "pygments_lexer": "ipython3",
   "version": "3.8.10"
  }
 },
 "nbformat": 4,
 "nbformat_minor": 5
}
