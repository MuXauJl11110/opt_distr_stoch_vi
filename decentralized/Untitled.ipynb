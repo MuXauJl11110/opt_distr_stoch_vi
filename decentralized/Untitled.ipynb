{
 "cells": [
  {
   "cell_type": "code",
   "execution_count": 1,
   "id": "8177bbf3",
   "metadata": {},
   "outputs": [],
   "source": [
    "from src.experiment import Experiment"
   ]
  },
  {
   "cell_type": "code",
   "execution_count": 2,
   "id": "e43cde8b",
   "metadata": {},
   "outputs": [],
   "source": [
    "a = Experiment()"
   ]
  },
  {
   "cell_type": "code",
   "execution_count": 3,
   "id": "a5c3099d",
   "metadata": {},
   "outputs": [
    {
     "name": "stderr",
     "output_type": "stream",
     "text": [
      "\r",
      "Datasets: 0it [00:00, ?it/s]"
     ]
    },
    {
     "name": "stdout",
     "output_type": "stream",
     "text": [
      "L = 76601.914, delta = 55273.953, mu = 2.000\n"
     ]
    },
    {
     "name": "stderr",
     "output_type": "stream",
     "text": [
      "\n",
      "States number:   0%|                                                                                                                                  | 0/1 [00:00<?, ?it/s]\u001b[A\n",
      "\n",
      "Nodes number:   0%|                                                                                                                                   | 0/1 [00:00<?, ?it/s]\u001b[A\u001b[A/home/michael/Documents/DistributedOpt/Experiments/decentralized/src/network/network.py:132: FutureWarning: adjacency_matrix will return a scipy.sparse array instead of a matrix in Networkx 3.0.\n",
      "  L = nx.adjacency_matrix(G, nodelist=self.nodelist).todense()\n",
      "/home/michael/Documents/DistributedOpt/Experiments/decentralized/src/runner/decentralized_extragradient_gt.py:51: RuntimeWarning: invalid value encountered in double_scalars\n",
      "  (1 - _lam) ** (4 / 3) * self.mu ** (1 / 3) / (40 * self.L ** (4 / 3)),\n",
      "/home/michael/Documents/DistributedOpt/Experiments/decentralized/src/oracles/robust_linear.py:75: RuntimeWarning: overflow encountered in multiply\n",
      "  + self._ones.dot(self.matvec_Ax(x)) * x / den\n",
      "/home/michael/Documents/DistributedOpt/Experiments/decentralized/src/config_managers/logger.py:111: RuntimeWarning: overflow encountered in square\n",
      "  return ((a.x - b.x.mean(axis=0)) ** 2).sum() / b.x.shape[0] + (\n",
      "/home/michael/Documents/DistributedOpt/Experiments/decentralized/src/config_managers/logger.py:112: RuntimeWarning: overflow encountered in square\n",
      "  (a.y - b.y.mean(axis=0)) ** 2\n",
      "/home/michael/Documents/DistributedOpt/Experiments/decentralized/src/oracles/robust_linear.py:68: RuntimeWarning: overflow encountered in multiply\n",
      "  return (self.matvec_ATx(w) + self._ones.dot(w) * delta) / den + self.regcoef_x * x\n",
      "/home/michael/Documents/DistributedOpt/Experiments/decentralized/src/oracles/robust_linear.py:74: RuntimeWarning: overflow encountered in multiply\n",
      "  self._n / den * delta.dot(x) * x\n",
      "/home/michael/Documents/DistributedOpt/Experiments/decentralized/src/runner/decentralized_sliding.py:115: RuntimeWarning: invalid value encountered in sqrt\n",
      "  self.gossip_step = (1 - np.sqrt(1 - self._lam**2)) / (\n",
      "/home/michael/Documents/DistributedOpt/Experiments/decentralized/src/runner/decentralized_sliding.py:116: RuntimeWarning: invalid value encountered in sqrt\n",
      "  1 + np.sqrt(1 - self._lam**2)\n"
     ]
    },
    {
     "name": "stdout",
     "output_type": "stream",
     "text": [
      "0.9842294026289564\n",
      "0.01 8.333333333333334 0.01\n",
      "0.9842294026289564\n",
      "0.01 8.333333333333334 0.01\n",
      "0.9842294026289564\n",
      "0.01 8.333333333333334 0.01\n",
      "0.9842294026289633\n",
      "0.01 8.333333333333334 0.01\n",
      "0.984229402628954\n",
      "0.01 8.333333333333334 0.01\n",
      "0.9842294026289604\n",
      "0.01 8.333333333333334 0.01\n",
      "0.9842294026289575\n",
      "0.01 8.333333333333334 0.01\n",
      "0.9842294026289558\n",
      "0.01 8.333333333333334 0.01\n",
      "0.9842294026289553\n",
      "0.01 8.333333333333334 0.01\n",
      "0.9842294026289597\n",
      "0.01 8.333333333333334 0.01\n",
      "0.9842294026289558\n",
      "0.01 8.333333333333334 0.01\n",
      "0.9842294026289542\n",
      "0.01 8.333333333333334 0.01\n",
      "0.9842294026289589\n",
      "0.01 8.333333333333334 0.01\n",
      "0.9842294026289589\n",
      "0.01 8.333333333333334 0.01\n",
      "0.9842294026289553\n",
      "0.01 8.333333333333334 0.01\n",
      "0.984229402628956\n",
      "0.01 8.333333333333334 0.01\n",
      "0.9842294026289582\n",
      "0.01 8.333333333333334 0.01\n",
      "0.9842294026289549\n",
      "0.01 8.333333333333334 0.01\n",
      "0.9842294026289575\n",
      "0.01 8.333333333333334 0.01\n",
      "0.9842294026289595\n",
      "0.01 8.333333333333334 0.01\n",
      "0.9842294026289549\n",
      "0.01 8.333333333333334 0.01\n",
      "0.9842294026289569\n",
      "0.01 8.333333333333334 0.01\n",
      "0.9842294026289549\n",
      "0.01 8.333333333333334 0.01\n",
      "0.9842294026289571\n",
      "0.01 8.333333333333334 0.01\n",
      "0.9842294026289546\n",
      "0.01 8.333333333333334 0.01\n",
      "0.9842294026289551\n",
      "0.01 8.333333333333334 0.01\n",
      "0.9842294026289578\n",
      "0.01 8.333333333333334 0.01\n",
      "0.9842294026289558\n",
      "0.01 8.333333333333334 0.01\n",
      "0.9842294026289562\n",
      "0.01 8.333333333333334 0.01\n",
      "0.9842294026289555\n",
      "0.01 8.333333333333334 0.01\n",
      "0.9842294026289571\n",
      "0.01 8.333333333333334 0.01\n",
      "0.9842294026289533\n",
      "0.01 8.333333333333334 0.01\n",
      "0.9842294026289597\n",
      "0.01 8.333333333333334 0.01\n",
      "0.9842294026289562\n",
      "0.01 8.333333333333334 0.01\n",
      "0.9842294026289591\n",
      "0.01 8.333333333333334 0.01\n",
      "0.9842294026289575\n",
      "0.01 8.333333333333334 0.01\n",
      "0.9842294026289562\n",
      "0.01 8.333333333333334 0.01\n",
      "0.9842294026289566\n",
      "0.01 8.333333333333334 0.01\n",
      "0.9842294026289546\n",
      "0.01 8.333333333333334 0.01\n",
      "0.984229402628956\n",
      "0.01 8.333333333333334 0.01\n",
      "0.9842294026289595\n",
      "0.01 8.333333333333334 0.01\n",
      "0.9842294026289558\n",
      "0.01 8.333333333333334 0.01\n",
      "0.9842294026289542\n",
      "0.01 8.333333333333334 0.01\n",
      "0.9842294026289538\n",
      "0.01 8.333333333333334 0.01\n",
      "0.9842294026289611\n",
      "0.01 8.333333333333334 0.01\n",
      "0.984229402628956\n",
      "0.01 8.333333333333334 0.01\n",
      "0.9842294026289602\n",
      "0.01 8.333333333333334 0.01\n",
      "0.9842294026289569\n",
      "0.01 8.333333333333334 0.01\n",
      "0.9842294026289573\n",
      "0.01 8.333333333333334 0.01\n",
      "0.9842294026289584\n",
      "0.01 8.333333333333334 0.01\n",
      "0.9842294026289564\n",
      "0.01 8.333333333333334 0.01\n"
     ]
    },
    {
     "name": "stderr",
     "output_type": "stream",
     "text": [
      "<class 'networkx.utils.decorators.argmap'> compilation 12:4: FutureWarning: laplacian_matrix will return a scipy.sparse array instead of a matrix in Networkx 3.0.\n",
      "/home/michael/Documents/DistributedOpt/Experiments/decentralized/src/oracles/base.py:36: RuntimeWarning: overflow encountered in multiply\n",
      "  return ArrayPair(self.x * other, self.y * other)\n",
      "/home/michael/Documents/DistributedOpt/Experiments/decentralized/src/method/decentralized_vi_adom.py:155: RuntimeWarning: invalid value encountered in matmul\n",
      "  self.gos_mat @ (self.eta_x * Delta_x.x + self.m_list.x),\n",
      "/home/michael/Documents/DistributedOpt/Experiments/decentralized/src/method/decentralized_vi_adom.py:156: RuntimeWarning: invalid value encountered in matmul\n",
      "  self.gos_mat @ (self.eta_x * Delta_x.y + self.m_list.y),\n",
      "/home/michael/Documents/DistributedOpt/Experiments/env/lib/python3.10/site-packages/numpy/core/_methods.py:48: RuntimeWarning: invalid value encountered in reduce\n",
      "  return umr_sum(a, axis, dtype, out, keepdims, initial, where)\n",
      "/home/michael/Documents/DistributedOpt/Experiments/decentralized/src/method/decentralized_vi_adom.py:134: RuntimeWarning: overflow encountered in multiply\n",
      "  - self.eta_z * Delta_z\n",
      "/home/michael/Documents/DistributedOpt/Experiments/decentralized/src/method/constraints.py:57: RuntimeWarning: invalid value encountered in multiply\n",
      "  z_list.x[i] = z_list.x[i] / x_norm * self.r_x\n",
      "/home/michael/Documents/DistributedOpt/Experiments/decentralized/src/method/constraints.py:57: RuntimeWarning: invalid value encountered in divide\n",
      "  z_list.x[i] = z_list.x[i] / x_norm * self.r_x\n",
      "/home/michael/Documents/DistributedOpt/Experiments/decentralized/src/method/constraints.py:65: RuntimeWarning: invalid value encountered in multiply\n",
      "  z_list.y[i] = z_list.y[i] / y_norm * self.r_y\n",
      "/home/michael/Documents/DistributedOpt/Experiments/decentralized/src/method/constraints.py:65: RuntimeWarning: invalid value encountered in divide\n",
      "  z_list.y[i] = z_list.y[i] / y_norm * self.r_y\n",
      "\n",
      "\n",
      "Nodes number: 100%|███████████████████████████████████████████████████████████████████████████████████████████████████████████████████████████| 1/1 [00:01<00:00,  1.43s/it]\u001b[A\u001b[A\n",
      "\n",
      "States number: 100%|██████████████████████████████████████████████████████████████████████████████████████████████████████████████████████████| 1/1 [00:01<00:00,  1.48s/it]\u001b[A\n",
      "Datasets: 1it [00:01,  1.56s/it]\n"
     ]
    }
   ],
   "source": [
    "a.layout.widget"
   ]
  },
  {
   "cell_type": "code",
   "execution_count": null,
   "id": "949bc63f",
   "metadata": {},
   "outputs": [],
   "source": [
    "a.layout.value"
   ]
  },
  {
   "cell_type": "code",
   "execution_count": null,
   "id": "ed9fc20f",
   "metadata": {},
   "outputs": [],
   "source": [
    "from src.dataset import DatasetLayout\n",
    "from src.config_managers import DatasetConfigManager"
   ]
  },
  {
   "cell_type": "code",
   "execution_count": null,
   "id": "4ae33b48",
   "metadata": {},
   "outputs": [],
   "source": [
    "a = DatasetLayout(DatasetConfigManager)"
   ]
  },
  {
   "cell_type": "code",
   "execution_count": null,
   "id": "45addfbb",
   "metadata": {},
   "outputs": [],
   "source": [
    "\n",
    "a.layout.widget"
   ]
  },
  {
   "cell_type": "code",
   "execution_count": null,
   "id": "b0b40a9e",
   "metadata": {},
   "outputs": [],
   "source": [
    "a.layout.value"
   ]
  },
  {
   "cell_type": "code",
   "execution_count": null,
   "id": "7a0ee446",
   "metadata": {},
   "outputs": [],
   "source": [
    "for i in a:\n",
    "    print(i)"
   ]
  },
  {
   "cell_type": "code",
   "execution_count": null,
   "id": "ccb6a9cc",
   "metadata": {},
   "outputs": [],
   "source": [
    "from src.runner import RunnerLayout\n",
    "from src.config_managers import RunnerConfigManager"
   ]
  },
  {
   "cell_type": "code",
   "execution_count": null,
   "id": "15d9e358",
   "metadata": {},
   "outputs": [],
   "source": [
    "a = RunnerLayout(RunnerConfigManager())"
   ]
  },
  {
   "cell_type": "code",
   "execution_count": null,
   "id": "44c73eed",
   "metadata": {},
   "outputs": [],
   "source": [
    "a.layout.widget"
   ]
  },
  {
   "cell_type": "code",
   "execution_count": null,
   "id": "95a5dc51",
   "metadata": {},
   "outputs": [],
   "source": [
    "a.layout.value"
   ]
  },
  {
   "cell_type": "code",
   "execution_count": null,
   "id": "b1d16e48",
   "metadata": {},
   "outputs": [],
   "source": [
    "for i in a(5):\n",
    "    print(i)"
   ]
  },
  {
   "cell_type": "code",
   "execution_count": null,
   "id": "3920a5d0",
   "metadata": {},
   "outputs": [],
   "source": [
    "import networkx as nx"
   ]
  },
  {
   "cell_type": "code",
   "execution_count": null,
   "id": "81fa5f70",
   "metadata": {},
   "outputs": [],
   "source": []
  }
 ],
 "metadata": {
  "kernelspec": {
   "display_name": "Python 3 (ipykernel)",
   "language": "python",
   "name": "python3"
  },
  "language_info": {
   "codemirror_mode": {
    "name": "ipython",
    "version": 3
   },
   "file_extension": ".py",
   "mimetype": "text/x-python",
   "name": "python",
   "nbconvert_exporter": "python",
   "pygments_lexer": "ipython3",
   "version": "3.10.4"
  }
 },
 "nbformat": 4,
 "nbformat_minor": 5
}
